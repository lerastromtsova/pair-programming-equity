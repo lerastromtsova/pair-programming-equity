{
 "cells": [
  {
   "cell_type": "code",
   "execution_count": 1,
   "id": "fcf411b8",
   "metadata": {},
   "outputs": [],
   "source": [
    "import pandas as pd\n",
    "import matplotlib.pyplot as plt"
   ]
  },
  {
   "cell_type": "markdown",
   "id": "b6d26ab1",
   "metadata": {},
   "source": [
    "# Retrieving the data"
   ]
  },
  {
   "cell_type": "code",
   "execution_count": 2,
   "id": "8d4efc4a",
   "metadata": {},
   "outputs": [],
   "source": [
    "students_results = pd.read_csv('data/data_pairprogramming_students.csv', sep='|', encoding='UTF-16 LE')\n",
    "teachers_results = pd.read_csv('data/data_pairprogramming_teachers.csv', sep='|', encoding='UTF-16 LE')"
   ]
  },
  {
   "cell_type": "markdown",
   "id": "ec524c02",
   "metadata": {},
   "source": [
    "## Students data"
   ]
  },
  {
   "cell_type": "code",
   "execution_count": 3,
   "id": "b5776d02",
   "metadata": {},
   "outputs": [],
   "source": [
    "students_results.fillna(\"\", inplace=True)"
   ]
  },
  {
   "cell_type": "code",
   "execution_count": 4,
   "id": "d876e669",
   "metadata": {},
   "outputs": [
    {
     "name": "stdout",
     "output_type": "stream",
     "text": [
      "433 respondents participated in the student prescreen.\n",
      "277 respondents participated in the student survey.\n",
      "\n",
      "406 finished the prescreen.\n",
      "252 finished the survey.\n"
     ]
    }
   ],
   "source": [
    "prescreen_students = students_results[students_results['QUESTNNR']=='prescreen']\n",
    "survey_students = students_results[students_results['QUESTNNR']=='survey']\n",
    "print(f\"{prescreen_students.shape[0]} respondents participated in the student prescreen.\")\n",
    "print(f\"{survey_students.shape[0]} respondents participated in the student survey.\\n\")\n",
    "\n",
    "prescreen_students_finished = prescreen_students[prescreen_students['FINISHED']==1]\n",
    "survey_students_finished = survey_students[survey_students['FINISHED']==1]\n",
    "print(f\"{prescreen_students_finished.shape[0]} finished the prescreen.\")\n",
    "print(f\"{survey_students_finished.shape[0]} finished the survey.\")"
   ]
  },
  {
   "cell_type": "markdown",
   "id": "a8022eed",
   "metadata": {},
   "source": [
    "## Teachers data"
   ]
  },
  {
   "cell_type": "code",
   "execution_count": 22,
   "id": "4bb2179f",
   "metadata": {
    "scrolled": true
   },
   "outputs": [],
   "source": [
    "teachers_results.fillna(\"\", inplace=True)"
   ]
  },
  {
   "cell_type": "code",
   "execution_count": 23,
   "id": "42f69f10",
   "metadata": {},
   "outputs": [
    {
     "name": "stdout",
     "output_type": "stream",
     "text": [
      "304 respondents participated in the teacher prescreen.\n",
      "109 respondents participated in the teacher-no survey.\n",
      "83 respondents participated in the teacher survey.\n",
      "\n",
      "303 finished the prescreen.\n",
      "82 finished the survey.\n"
     ]
    }
   ],
   "source": [
    "prescreen_teachers = teachers_results[teachers_results['QUESTNNR']=='prescreen']\n",
    "no_teachers = teachers_results[teachers_results['QUESTNNR']=='teachers-no']\n",
    "survey_teachers = teachers_results[teachers_results['QUESTNNR']=='survey']\n",
    "print(f\"{prescreen_teachers.shape[0]} respondents participated in the teacher prescreen.\")\n",
    "print(f\"{no_teachers.shape[0]} respondents participated in the teacher-no survey.\")\n",
    "print(f\"{survey_teachers.shape[0]} respondents participated in the teacher survey.\\n\")\n",
    "\n",
    "prescreen_teachers_finished = prescreen_teachers[prescreen_teachers['FINISHED']==1]\n",
    "survey_teachers_finished = survey_teachers[survey_teachers['FINISHED']==1]\n",
    "print(f\"{prescreen_teachers_finished.shape[0]} finished the prescreen.\")\n",
    "print(f\"{survey_teachers_finished.shape[0]} finished the survey.\")"
   ]
  },
  {
   "cell_type": "markdown",
   "id": "fdb2dfc4",
   "metadata": {},
   "source": [
    "# Analysis"
   ]
  },
  {
   "cell_type": "markdown",
   "id": "b9b78414",
   "metadata": {},
   "source": [
    "## Students data"
   ]
  },
  {
   "cell_type": "code",
   "execution_count": 98,
   "id": "9df40052",
   "metadata": {},
   "outputs": [],
   "source": [
    "categorical_questions_students = [\n",
    "    'ED01',\n",
    "    'ED03',\n",
    "    'ED04',\n",
    "    'EX01',\n",
    "    'EX03',\n",
    "    'EX04',\n",
    "    'EX05',\n",
    "    'EX06',\n",
    "    'EX07',\n",
    "    'BP01',\n",
    "    'BP02',\n",
    "    'BP03',\n",
    "    'DI01',\n",
    "    'DI02',\n",
    "    'PE01',\n",
    "    'PE02',\n",
    "    'PE05',\n",
    "    'EQ01'\n",
    "]"
   ]
  },
  {
   "cell_type": "markdown",
   "id": "c10d534f",
   "metadata": {},
   "source": [
    "### Education"
   ]
  },
  {
   "cell_type": "markdown",
   "id": "fedb87f5",
   "metadata": {},
   "source": [
    "**ED01** At which stage of your education did you practice pair programming and how often?"
   ]
  },
  {
   "cell_type": "code",
   "execution_count": 101,
   "id": "61e433fc",
   "metadata": {},
   "outputs": [],
   "source": [
    "# TODO"
   ]
  },
  {
   "cell_type": "markdown",
   "id": "990e8098",
   "metadata": {},
   "source": [
    "**ED03** How would you rate your computer science skills (e.g. programming skills) to the time of this specific course?"
   ]
  },
  {
   "cell_type": "code",
   "execution_count": 111,
   "id": "4f6f71b5",
   "metadata": {},
   "outputs": [
    {
     "data": {
      "text/plain": [
       "<AxesSubplot:title={'center':'Prior CS skills'}>"
      ]
     },
     "execution_count": 111,
     "metadata": {},
     "output_type": "execute_result"
    },
    {
     "data": {
      "image/png": "[encoded data removed]",
      "text/plain": [
       "<Figure size 432x288 with 1 Axes>"
      ]
     },
     "metadata": {
      "needs_background": "light"
     },
     "output_type": "display_data"
    }
   ],
   "source": [
    "survey_students_finished['ED03'].value_counts().reindex([\n",
    "    'Novice', 'Advanced Beginner', 'Competent', 'Proficient', 'Expert'\n",
    "]).plot.barh(\n",
    "    title=\"Prior CS skills\",\n",
    "    color=['#d43d51', '#f49857', '#ffeb8e', '#8abd75', '#00876c']\n",
    ")"
   ]
  },
  {
   "cell_type": "markdown",
   "id": "de3aa108",
   "metadata": {},
   "source": [
    "**ED04** At which stage of your education did you practice this specific course of pair programming?"
   ]
  },
  {
   "cell_type": "code",
   "execution_count": 82,
   "id": "756c3a55",
   "metadata": {},
   "outputs": [
    {
     "data": {
      "text/plain": [
       "<AxesSubplot:title={'center':'Education stage'}>"
      ]
     },
     "execution_count": 82,
     "metadata": {},
     "output_type": "execute_result"
    },
    {
     "data": {
      "image/png": "[encoded data removed]",
      "text/plain": [
       "<Figure size 432x288 with 1 Axes>"
      ]
     },
     "metadata": {
      "needs_background": "light"
     },
     "output_type": "display_data"
    }
   ],
   "source": [
    "survey_students_finished['ED04'].value_counts().plot.barh(title=\"Education stage\")"
   ]
  },
  {
   "cell_type": "markdown",
   "id": "f64fa779",
   "metadata": {},
   "source": [
    "### Experience with PP"
   ]
  },
  {
   "cell_type": "markdown",
   "id": "f5adb3ed",
   "metadata": {},
   "source": [
    "**EX01** How would you rate your experience with pair programming in this specific course?"
   ]
  },
  {
   "cell_type": "code",
   "execution_count": 119,
   "id": "3074e451",
   "metadata": {},
   "outputs": [
    {
     "data": {
      "text/plain": [
       "<AxesSubplot:title={'center':'Experience with a particular case of PP on Likert scale'}>"
      ]
     },
     "execution_count": 119,
     "metadata": {},
     "output_type": "execute_result"
    },
    {
     "data": {
      "image/png": "[encoded data removed]",
      "text/plain": [
       "<Figure size 432x288 with 1 Axes>"
      ]
     },
     "metadata": {
      "needs_background": "light"
     },
     "output_type": "display_data"
    }
   ],
   "source": [
    "survey_students_finished['EX01'].value_counts().reindex([\n",
    "    \"Very negative\", \"Negative\", \"Neutral\", \"Positive\", \"Very positive\"\n",
    "]).plot.barh(\n",
    "    title=\"Experience with a particular case of PP on Likert scale\",\n",
    "    color=['#d43d51', '#f49857', '#ffeb8e', '#8abd75', '#00876c']\n",
    ")"
   ]
  },
  {
   "cell_type": "markdown",
   "id": "7cd98856",
   "metadata": {},
   "source": [
    "**EX02** Please explain the reasons for your experience."
   ]
  },
  {
   "cell_type": "code",
   "execution_count": 115,
   "id": "ad410685",
   "metadata": {},
   "outputs": [],
   "source": [
    "# TODO Analyse free text"
   ]
  },
  {
   "cell_type": "markdown",
   "id": "b2ed356a",
   "metadata": {},
   "source": [
    "**EX03** Please rank the following positive aspects regarding their relevance (1 = highest) perceived by you in your specific course.\n",
    "\n",
    "**EX04** Please rank the following negative aspects regarding their relevance (1 = highest) perceived by you in your specific course."
   ]
  },
  {
   "cell_type": "code",
   "execution_count": 116,
   "id": "c65b24f3",
   "metadata": {},
   "outputs": [],
   "source": [
    "# TODO"
   ]
  },
  {
   "cell_type": "markdown",
   "id": "7d980cd3",
   "metadata": {},
   "source": [
    "**EX05** In general, how would you rate your experiences with pair programming?"
   ]
  },
  {
   "cell_type": "code",
   "execution_count": 118,
   "id": "dc6b806a",
   "metadata": {},
   "outputs": [
    {
     "data": {
      "text/plain": [
       "<AxesSubplot:title={'center':'Overall experience with PP on Likert scale'}>"
      ]
     },
     "execution_count": 118,
     "metadata": {},
     "output_type": "execute_result"
    },
    {
     "data": {
      "image/png": "[encoded data removed]",
      "text/plain": [
       "<Figure size 432x288 with 1 Axes>"
      ]
     },
     "metadata": {
      "needs_background": "light"
     },
     "output_type": "display_data"
    }
   ],
   "source": [
    "survey_students_finished['EX05'].value_counts().reindex([\n",
    "    \"Very negative\", \"Negative\", \"Neutral\", \"Positive\", \"Very positive\"\n",
    "]).plot.barh(\n",
    "    title=\"Overall experience with PP on Likert scale\",\n",
    "    color=['#d43d51', '#f49857', '#ffeb8e', '#8abd75', '#00876c']\n",
    ")"
   ]
  },
  {
   "cell_type": "markdown",
   "id": "efc4f8b7",
   "metadata": {},
   "source": [
    "**EX06** How well did you know your programming partner in this specific course?"
   ]
  },
  {
   "cell_type": "code",
   "execution_count": 120,
   "id": "b5a114cb",
   "metadata": {},
   "outputs": [
    {
     "data": {
      "text/plain": [
       "<AxesSubplot:title={'center':'Knowing the partner'}>"
      ]
     },
     "execution_count": 120,
     "metadata": {},
     "output_type": "execute_result"
    },
    {
     "data": {
      "image/png": "[encoded data removed]",
      "text/plain": [
       "<Figure size 432x288 with 1 Axes>"
      ]
     },
     "metadata": {
      "needs_background": "light"
     },
     "output_type": "display_data"
    }
   ],
   "source": [
    "survey_students_finished['EX06'].value_counts().reindex([\n",
    "    \"Not at all\", \"Rather not well\", \"Neutral\", \"Rather well\", \"Very well\"\n",
    "]).plot.barh(\n",
    "    title=\"Knowing the partner\",\n",
    "    color=['#d43d51', '#f49857', '#ffeb8e', '#8abd75', '#00876c']\n",
    ")"
   ]
  },
  {
   "cell_type": "markdown",
   "id": "49b35d9f",
   "metadata": {},
   "source": [
    "**EX07** In which year did you take this specific course?"
   ]
  },
  {
   "cell_type": "code",
   "execution_count": 130,
   "id": "3ab1255e",
   "metadata": {},
   "outputs": [
    {
     "data": {
      "text/plain": [
       "<AxesSubplot:title={'center':'PP Year'}>"
      ]
     },
     "execution_count": 130,
     "metadata": {},
     "output_type": "execute_result"
    },
    {
     "data": {
      "image/png": "[encoded data removed]",
      "text/plain": [
       "<Figure size 432x288 with 1 Axes>"
      ]
     },
     "metadata": {
      "needs_background": "light"
     },
     "output_type": "display_data"
    }
   ],
   "source": [
    "survey_students_finished['EX07'].value_counts().reindex([\n",
    "    'earlier than 2017', '2017', '2018', '2019', '2020', '2021', '2022'\n",
    "]).plot.bar(title=\"PP Year\", rot=0)"
   ]
  },
  {
   "cell_type": "markdown",
   "id": "84288455",
   "metadata": {},
   "source": [
    "### Behavioural patterns"
   ]
  },
  {
   "cell_type": "markdown",
   "id": "45faf4fc",
   "metadata": {},
   "source": [
    "**BP01** Did you feel like your partner or you dominated the conversational floor, expressing ideas and making suggestions more often? "
   ]
  },
  {
   "cell_type": "code",
   "execution_count": 138,
   "id": "2c3bccd0",
   "metadata": {},
   "outputs": [
    {
     "data": {
      "text/plain": [
       "<AxesSubplot:title={'center':'Domination pattern'}>"
      ]
     },
     "execution_count": 138,
     "metadata": {},
     "output_type": "execute_result"
    },
    {
     "data": {
      "image/png": "[encoded data removed]",
      "text/plain": [
       "<Figure size 432x288 with 1 Axes>"
      ]
     },
     "metadata": {
      "needs_background": "light"
     },
     "output_type": "display_data"
    }
   ],
   "source": [
    "survey_students_finished['BP01'].value_counts().reindex([\n",
    "    'I expressed my ideas way more often than my partner.', \n",
    "    'I expressed my ideas slightly more often than my partner.', \n",
    "    'Both me and my partner expressed their ideas equally often.', \n",
    "    'My partner expressed their ideas slightly more often than me.',\n",
    "    'My partner expressed their ideas way more often than me.'\n",
    "]).plot.barh(title=\"Domination pattern\", color=['#00df5c', '#00b499', '#0084b2', '#00529a', '#001f5c'])"
   ]
  },
  {
   "cell_type": "markdown",
   "id": "81534f15",
   "metadata": {},
   "source": [
    "**BP02** In pair programming, the driver actively interacts with the computer, coding or designing while the navigator observes the working process and provides feedback to the driver. Did you and your partner only do what is prescribed by your roles?"
   ]
  },
  {
   "cell_type": "code",
   "execution_count": 141,
   "id": "7178b934",
   "metadata": {},
   "outputs": [
    {
     "data": {
      "text/plain": [
       "<AxesSubplot:title={'center':'Role switching pattern'}>"
      ]
     },
     "execution_count": 141,
     "metadata": {},
     "output_type": "execute_result"
    },
    {
     "data": {
      "image/png": "[encoded data removed]",
      "text/plain": [
       "<Figure size 432x288 with 1 Axes>"
      ]
     },
     "metadata": {
      "needs_background": "light"
     },
     "output_type": "display_data"
    }
   ],
   "source": [
    "survey_students_finished['BP02'].value_counts().reindex([\n",
    "    'Yes, we have both been sticking to our roles.', \n",
    "    'No, my partner sometimes took my role.', \n",
    "    'No, I sometimes took the role of my partner.', \n",
    "    'No, we both did something that was not prescribed by our roles.',\n",
    "]).plot.barh(title=\"Role switching pattern\", color=['#00b499', '#0084b2', '#00529a', '#001f5c'])"
   ]
  },
  {
   "cell_type": "markdown",
   "id": "1959eea1",
   "metadata": {},
   "source": [
    "**BP03** In general, to what extent do you feel like your ideas and suggestions are appreciated and taken into account by your pair programming partner? "
   ]
  },
  {
   "cell_type": "code",
   "execution_count": 144,
   "id": "ce610329",
   "metadata": {},
   "outputs": [
    {
     "data": {
      "text/plain": [
       "<AxesSubplot:title={'center':'Appreciation in pair'}>"
      ]
     },
     "execution_count": 144,
     "metadata": {},
     "output_type": "execute_result"
    },
    {
     "data": {
      "image/png": "[encoded data removed]",
      "text/plain": [
       "<Figure size 432x288 with 1 Axes>"
      ]
     },
     "metadata": {
      "needs_background": "light"
     },
     "output_type": "display_data"
    }
   ],
   "source": [
    "survey_students_finished['BP03'].value_counts().reindex([\n",
    "    'My partner did not listen to me and appreciate my comments at all.', \n",
    "    'My partner mostly did not listen to me and appreciate my comments.', \n",
    "    'My partner sometimes listened to me and appreciated my comments and sometimes not.', \n",
    "    'My partner most of the time listened to me and appreciated my comments.',\n",
    "    'My partner always listened to me and appreciated my comments.'\n",
    "]).plot.barh(title=\"Appreciation in pair\", color=['#d43d51', '#f49857', '#ffeb8e', '#8abd75', '#00876c'])"
   ]
  },
  {
   "cell_type": "markdown",
   "id": "54b0f0bc",
   "metadata": {},
   "source": [
    "### Diversity in pairs"
   ]
  },
  {
   "cell_type": "markdown",
   "id": "9df4b2f9",
   "metadata": {},
   "source": [
    "**DI01** Is anything of the following true regarding you and your pair programming partner? "
   ]
  },
  {
   "cell_type": "code",
   "execution_count": 148,
   "id": "f8027037",
   "metadata": {},
   "outputs": [],
   "source": [
    "# TODO survey_students_finished['DI01'].value_counts().plot.barh(title=\"Partners aspects\")"
   ]
  },
  {
   "cell_type": "markdown",
   "id": "7814a538",
   "metadata": {},
   "source": [
    "**DI02** If you could choose a pair programming partner, which attribute would be most important to you?"
   ]
  },
  {
   "cell_type": "code",
   "execution_count": 149,
   "id": "c6f5188c",
   "metadata": {},
   "outputs": [
    {
     "data": {
      "text/plain": [
       "<AxesSubplot:title={'center':'Important partners aspects'}>"
      ]
     },
     "execution_count": 149,
     "metadata": {},
     "output_type": "execute_result"
    },
    {
     "data": {
      "image/png": "[encoded data removed]",
      "text/plain": [
       "<Figure size 432x288 with 1 Axes>"
      ]
     },
     "metadata": {
      "needs_background": "light"
     },
     "output_type": "display_data"
    }
   ],
   "source": [
    "survey_students_finished['DI02'].value_counts().plot.barh(title=\"Important partners aspects\")"
   ]
  },
  {
   "cell_type": "markdown",
   "id": "dd6c25cb",
   "metadata": {},
   "source": [
    "**DI03** Please explain shortly your choice regarding the previous question."
   ]
  },
  {
   "cell_type": "code",
   "execution_count": 150,
   "id": "1f62c5a5",
   "metadata": {},
   "outputs": [],
   "source": [
    "# TODO Analyse free text"
   ]
  },
  {
   "cell_type": "markdown",
   "id": "8c49fec0",
   "metadata": {},
   "source": [
    "### Performance"
   ]
  },
  {
   "cell_type": "markdown",
   "id": "2220e20e",
   "metadata": {},
   "source": [
    "**PE01** How did pair programming influence your learning (e.g. programming skills) in this specific course? "
   ]
  },
  {
   "cell_type": "code",
   "execution_count": 152,
   "id": "4e14e1a7",
   "metadata": {},
   "outputs": [
    {
     "data": {
      "text/plain": [
       "<AxesSubplot:title={'center':'Learning skills influence'}>"
      ]
     },
     "execution_count": 152,
     "metadata": {},
     "output_type": "execute_result"
    },
    {
     "data": {
      "image/png": "[encoded data removed]",
      "text/plain": [
       "<Figure size 432x288 with 1 Axes>"
      ]
     },
     "metadata": {
      "needs_background": "light"
     },
     "output_type": "display_data"
    }
   ],
   "source": [
    "survey_students_finished['PE01'].value_counts().reindex([\n",
    "    'Very negative influence', \n",
    "    'Negative influence', \n",
    "    'Neutral influence', \n",
    "    'Positive influence',\n",
    "    'Very positive influence'\n",
    "]).plot.barh(title=\"Learning skills influence\", color=['#d43d51', '#f49857', '#ffeb8e', '#8abd75', '#00876c'])"
   ]
  },
  {
   "cell_type": "markdown",
   "id": "d2e83f23",
   "metadata": {},
   "source": [
    "**PE02** How did pair programming influence your social skills (e.g. collaboration) in this specific course? "
   ]
  },
  {
   "cell_type": "code",
   "execution_count": 153,
   "id": "da9ffddc",
   "metadata": {},
   "outputs": [
    {
     "data": {
      "text/plain": [
       "<AxesSubplot:title={'center':'Social skills influence'}>"
      ]
     },
     "execution_count": 153,
     "metadata": {},
     "output_type": "execute_result"
    },
    {
     "data": {
      "image/png": "[encoded data removed]",
      "text/plain": [
       "<Figure size 432x288 with 1 Axes>"
      ]
     },
     "metadata": {
      "needs_background": "light"
     },
     "output_type": "display_data"
    }
   ],
   "source": [
    "survey_students_finished['PE02'].value_counts().reindex([\n",
    "    'Very negative influence', \n",
    "    'Negative influence', \n",
    "    'Neutral influence', \n",
    "    'Positive influence',\n",
    "    'Very positive influence'\n",
    "]).plot.barh(title=\"Social skills influence\", color=['#d43d51', '#f49857', '#ffeb8e', '#8abd75', '#00876c'])"
   ]
  },
  {
   "cell_type": "markdown",
   "id": "dcf81d2d",
   "metadata": {},
   "source": [
    "**PE03** Please state shortly which learning skills were influenced by this course. (optional)"
   ]
  },
  {
   "cell_type": "code",
   "execution_count": 154,
   "id": "500f93e0",
   "metadata": {},
   "outputs": [],
   "source": [
    "# TODO"
   ]
  },
  {
   "cell_type": "markdown",
   "id": "8c6c7bfe",
   "metadata": {},
   "source": [
    "**PE04** Please state shortly which social skills were influenced by this course. (optional)"
   ]
  },
  {
   "cell_type": "code",
   "execution_count": 155,
   "id": "ac4cca23",
   "metadata": {},
   "outputs": [],
   "source": [
    "# TODO"
   ]
  },
  {
   "cell_type": "markdown",
   "id": "792a5c87",
   "metadata": {},
   "source": [
    "**PE05** Pair Programming helped me to be confident in my ability to program and solve problems in this task or later on."
   ]
  },
  {
   "cell_type": "code",
   "execution_count": 156,
   "id": "99061df9",
   "metadata": {},
   "outputs": [
    {
     "data": {
      "text/plain": [
       "<AxesSubplot:title={'center':'Confidence'}>"
      ]
     },
     "execution_count": 156,
     "metadata": {},
     "output_type": "execute_result"
    },
    {
     "data": {
      "image/png": "[encoded data removed]",
      "text/plain": [
       "<Figure size 432x288 with 1 Axes>"
      ]
     },
     "metadata": {
      "needs_background": "light"
     },
     "output_type": "display_data"
    }
   ],
   "source": [
    "survey_students_finished['PE05'].value_counts().reindex([\n",
    "    'Strongly disagree', \n",
    "    'Disagree', \n",
    "    'Neutral', \n",
    "    'Agree',\n",
    "    'Strongly agree'\n",
    "]).plot.barh(title=\"Confidence\", color=['#d43d51', '#f49857', '#ffeb8e', '#8abd75', '#00876c'])"
   ]
  },
  {
   "cell_type": "markdown",
   "id": "188f131f",
   "metadata": {},
   "source": [
    "### Equity and PP"
   ]
  },
  {
   "cell_type": "markdown",
   "id": "6b241841",
   "metadata": {},
   "source": [
    "**EQ01** Do you think that pair programming supports equity between students? "
   ]
  },
  {
   "cell_type": "code",
   "execution_count": 157,
   "id": "54a12736",
   "metadata": {},
   "outputs": [
    {
     "data": {
      "text/plain": [
       "<AxesSubplot:title={'center':'Equity support'}>"
      ]
     },
     "execution_count": 157,
     "metadata": {},
     "output_type": "execute_result"
    },
    {
     "data": {
      "image/png": "[encoded data removed]",
      "text/plain": [
       "<Figure size 432x288 with 1 Axes>"
      ]
     },
     "metadata": {
      "needs_background": "light"
     },
     "output_type": "display_data"
    }
   ],
   "source": [
    "survey_students_finished['EQ01'].value_counts().reindex([\n",
    "    'Not at all', \n",
    "    'A bit', \n",
    "    'Neither yes, neither no', \n",
    "    'Supportive',\n",
    "    'Extremely supportive'\n",
    "]).plot.barh(title=\"Equity support\", color=['#d43d51', '#f49857', '#ffeb8e', '#8abd75', '#00876c'])"
   ]
  },
  {
   "cell_type": "markdown",
   "id": "571edeb5",
   "metadata": {},
   "source": [
    "**EQ02** Please shortly explain your choice in the previous question."
   ]
  },
  {
   "cell_type": "code",
   "execution_count": 158,
   "id": "99f66a91",
   "metadata": {},
   "outputs": [],
   "source": [
    "# TODO Free text analysis"
   ]
  },
  {
   "cell_type": "markdown",
   "id": "3927ebf5",
   "metadata": {},
   "source": [
    "## Teachers data"
   ]
  },
  {
   "cell_type": "code",
   "execution_count": 99,
   "id": "310a88dc",
   "metadata": {},
   "outputs": [],
   "source": [
    "categorical_questions_teachers = [\n",
    "    'ED01',\n",
    "    'ED02',\n",
    "    'ED04',\n",
    "    'EX01',\n",
    "    'EX03',\n",
    "    'EX04',\n",
    "    'EX05',\n",
    "    'EX06',\n",
    "    'PF01',\n",
    "    'PF02',\n",
    "    'PF04',\n",
    "    'PF05',\n",
    "    'PF07',\n",
    "    'BP01',\n",
    "    'BP02',\n",
    "    'BP03',\n",
    "    'PE01',\n",
    "    'PE02',\n",
    "    'PE03',\n",
    "    'EQ01'\n",
    "]"
   ]
  },
  {
   "cell_type": "markdown",
   "id": "d4b9a0d9",
   "metadata": {},
   "source": [
    "### Reasons for PP"
   ]
  },
  {
   "cell_type": "markdown",
   "id": "78af4397",
   "metadata": {},
   "source": [
    "**RE01** Why did you introduce pair programming in your class?"
   ]
  },
  {
   "cell_type": "code",
   "execution_count": null,
   "id": "92b00528",
   "metadata": {},
   "outputs": [],
   "source": [
    "# TODO Free text analysis"
   ]
  },
  {
   "cell_type": "markdown",
   "id": "5481e15e",
   "metadata": {},
   "source": [
    "**RE02** Why haven't you used pair programming in your class yet?"
   ]
  },
  {
   "cell_type": "code",
   "execution_count": 3,
   "id": "1f0464a6",
   "metadata": {},
   "outputs": [],
   "source": [
    "# TODO Free text analysis"
   ]
  },
  {
   "cell_type": "markdown",
   "id": "7277ca42",
   "metadata": {},
   "source": [
    "### Education"
   ]
  },
  {
   "cell_type": "markdown",
   "id": "e235a74f",
   "metadata": {},
   "source": [
    "**ED01** At which stage of education did your students practice pair programming with you and how often?"
   ]
  },
  {
   "cell_type": "code",
   "execution_count": 4,
   "id": "8a382580",
   "metadata": {},
   "outputs": [],
   "source": [
    "# TODO"
   ]
  },
  {
   "cell_type": "markdown",
   "id": "f5a127ae",
   "metadata": {},
   "source": [
    "**ED04** At which stage of education do you currently teach?"
   ]
  },
  {
   "cell_type": "code",
   "execution_count": 19,
   "id": "974b7c20",
   "metadata": {},
   "outputs": [],
   "source": [
    "# TODO Multiple choice"
   ]
  },
  {
   "cell_type": "markdown",
   "id": "37649374",
   "metadata": {},
   "source": [
    "**ED02** At which stage of education did your students practice pair programming with you on this specific course?"
   ]
  },
  {
   "cell_type": "code",
   "execution_count": 15,
   "id": "f3bf676a",
   "metadata": {},
   "outputs": [
    {
     "data": {
      "text/plain": [
       "<AxesSubplot:title={'center':'Stage of education (specific PP experience)'}>"
      ]
     },
     "execution_count": 15,
     "metadata": {},
     "output_type": "execute_result"
    },
    {
     "data": {
      "image/png": "[encoded data removed]",
      "text/plain": [
       "<Figure size 432x288 with 1 Axes>"
      ]
     },
     "metadata": {
      "needs_background": "light"
     },
     "output_type": "display_data"
    }
   ],
   "source": [
    "survey_teachers_finished['ED02'].value_counts().reindex([\n",
    "    \"School (primary/middle)\",\n",
    "    \"College\",\n",
    "    \"Undergraduate Level\",\n",
    "    \"Graduate Level\",\n",
    "    \"Postgraduate Level\",\n",
    "    \"Extracurricular Courses\",\n",
    "    \"Other\"\n",
    "]).plot.barh(title=\"Stage of education (specific PP experience)\")"
   ]
  },
  {
   "cell_type": "markdown",
   "id": "38a2249f",
   "metadata": {},
   "source": [
    "### Experience with PP"
   ]
  },
  {
   "cell_type": "markdown",
   "id": "19305014",
   "metadata": {},
   "source": [
    "**EX01** How would you rate YOUR experience with pair programming in this specific course?"
   ]
  },
  {
   "cell_type": "code",
   "execution_count": 21,
   "id": "76273308",
   "metadata": {},
   "outputs": [
    {
     "data": {
      "text/plain": [
       "<AxesSubplot:title={'center':'Experience with a particular case of PP on Likert scale'}>"
      ]
     },
     "execution_count": 21,
     "metadata": {},
     "output_type": "execute_result"
    },
    {
     "data": {
      "image/png": "[encoded data removed]",
      "text/plain": [
       "<Figure size 432x288 with 1 Axes>"
      ]
     },
     "metadata": {
      "needs_background": "light"
     },
     "output_type": "display_data"
    }
   ],
   "source": [
    "survey_teachers_finished['EX01'].value_counts().reindex([\n",
    "    \"Very negative\", \"Negative\", \"Neutral\", \"Positive\", \"Very positive\"\n",
    "]).plot.barh(\n",
    "    title=\"Experience with a particular case of PP on Likert scale\",\n",
    "    color=['#d43d51', '#f49857', '#ffeb8e', '#8abd75', '#00876c']\n",
    ")"
   ]
  },
  {
   "cell_type": "markdown",
   "id": "5f80ed22",
   "metadata": {},
   "source": [
    "**EX03** In general, how would you rate your experiences with pair programming?"
   ]
  },
  {
   "cell_type": "code",
   "execution_count": 23,
   "id": "178a9bd9",
   "metadata": {},
   "outputs": [
    {
     "data": {
      "text/plain": [
       "<AxesSubplot:title={'center':'Experience with a particular case of PP on Likert scale'}>"
      ]
     },
     "execution_count": 23,
     "metadata": {},
     "output_type": "execute_result"
    },
    {
     "data": {
      "image/png": "[encoded data removed]",
      "text/plain": [
       "<Figure size 432x288 with 1 Axes>"
      ]
     },
     "metadata": {
      "needs_background": "light"
     },
     "output_type": "display_data"
    }
   ],
   "source": [
    "survey_teachers_finished['EX03'].value_counts().reindex([\n",
    "    \"Very negative\", \"Negative\", \"Neutral\", \"Positive\", \"Very positive\"\n",
    "]).plot.barh(\n",
    "    title=\"Experience with a particular case of PP on Likert scale\",\n",
    "    color=['#d43d51', '#f49857', '#ffeb8e', '#8abd75', '#00876c']\n",
    ")"
   ]
  },
  {
   "cell_type": "markdown",
   "id": "86e25d75",
   "metadata": {},
   "source": [
    "**EX02** Please explain the reasons for your experience."
   ]
  },
  {
   "cell_type": "code",
   "execution_count": 24,
   "id": "782df3e6",
   "metadata": {},
   "outputs": [],
   "source": [
    "# TODO Free text analysis"
   ]
  },
  {
   "cell_type": "markdown",
   "id": "12d70d20",
   "metadata": {},
   "source": [
    "**EX04** In which year did you teach this specific course?"
   ]
  },
  {
   "cell_type": "code",
   "execution_count": 25,
   "id": "ef117b83",
   "metadata": {},
   "outputs": [
    {
     "data": {
      "text/plain": [
       "<AxesSubplot:title={'center':'PP Year'}>"
      ]
     },
     "execution_count": 25,
     "metadata": {},
     "output_type": "execute_result"
    },
    {
     "data": {
      "image/png": "[encoded data removed]",
      "text/plain": [
       "<Figure size 432x288 with 1 Axes>"
      ]
     },
     "metadata": {
      "needs_background": "light"
     },
     "output_type": "display_data"
    }
   ],
   "source": [
    "survey_teachers_finished['EX04'].value_counts().reindex([\n",
    "    'earlier than 2017', '2017', '2018', '2019', '2020', '2021', '2022'\n",
    "]).plot.bar(title=\"PP Year\", rot=0)"
   ]
  },
  {
   "cell_type": "markdown",
   "id": "82d80153",
   "metadata": {},
   "source": [
    "**EX05** Please estimate the computer science skills (e.g. programming skills) of your students to the time of this specific course."
   ]
  },
  {
   "cell_type": "code",
   "execution_count": 27,
   "id": "ab137a8b",
   "metadata": {},
   "outputs": [
    {
     "data": {
      "text/plain": [
       "<AxesSubplot:title={'center':'Prior CS skills'}>"
      ]
     },
     "execution_count": 27,
     "metadata": {},
     "output_type": "execute_result"
    },
    {
     "data": {
      "image/png": "[encoded data removed]",
      "text/plain": [
       "<Figure size 432x288 with 1 Axes>"
      ]
     },
     "metadata": {
      "needs_background": "light"
     },
     "output_type": "display_data"
    }
   ],
   "source": [
    "survey_teachers_finished['EX05'].value_counts().reindex([\n",
    "    'Novice', 'Advanced Beginner', 'Competent', 'Proficient', 'Expert'\n",
    "]).plot.barh(\n",
    "    title=\"Prior CS skills\",\n",
    "    color=['#d43d51', '#f49857', '#ffeb8e', '#8abd75', '#00876c']\n",
    ")"
   ]
  },
  {
   "cell_type": "markdown",
   "id": "4d18bd57",
   "metadata": {},
   "source": [
    "**EX06** Please estimate how well the students knew their programming partner in this specific course."
   ]
  },
  {
   "cell_type": "code",
   "execution_count": 29,
   "id": "49afd794",
   "metadata": {},
   "outputs": [
    {
     "data": {
      "text/plain": [
       "<AxesSubplot:title={'center':'Knowing the partner'}>"
      ]
     },
     "execution_count": 29,
     "metadata": {},
     "output_type": "execute_result"
    },
    {
     "data": {
      "image/png": "[encoded data removed]",
      "text/plain": [
       "<Figure size 432x288 with 1 Axes>"
      ]
     },
     "metadata": {
      "needs_background": "light"
     },
     "output_type": "display_data"
    }
   ],
   "source": [
    "survey_teachers_finished['EX06'].value_counts().reindex([\n",
    "    \"Not at all\", \"Rather not well\", \"Neutral\", \"Rather well\", \"Very well\"\n",
    "]).plot.barh(\n",
    "    title=\"Knowing the partner\",\n",
    "    color=['#d43d51', '#f49857', '#ffeb8e', '#8abd75', '#00876c']\n",
    ")"
   ]
  },
  {
   "cell_type": "markdown",
   "id": "c636d958",
   "metadata": {},
   "source": [
    "**EX07** Which factors or conditions would need to change for you to use pair programming in your class in the future?"
   ]
  },
  {
   "cell_type": "code",
   "execution_count": 30,
   "id": "f57683cd",
   "metadata": {},
   "outputs": [],
   "source": [
    "# TODO Free text analysis"
   ]
  },
  {
   "cell_type": "markdown",
   "id": "1c7bb1fc",
   "metadata": {},
   "source": [
    "### Pair formation"
   ]
  },
  {
   "cell_type": "markdown",
   "id": "4d6ac0f7",
   "metadata": {},
   "source": [
    "**PF01** Which of the following aspects, if any, did you consider while distributing your students into pairs for pair programming?"
   ]
  },
  {
   "cell_type": "code",
   "execution_count": 35,
   "id": "a4ee59b2",
   "metadata": {},
   "outputs": [
    {
     "data": {
      "text/plain": [
       "<AxesSubplot:title={'center':'Aspects considered for pair formation'}>"
      ]
     },
     "execution_count": 35,
     "metadata": {},
     "output_type": "execute_result"
    },
    {
     "data": {
      "image/png": "[encoded data removed]",
      "text/plain": [
       "<Figure size 432x288 with 1 Axes>"
      ]
     },
     "metadata": {
      "needs_background": "light"
     },
     "output_type": "display_data"
    }
   ],
   "source": [
    "survey_teachers_finished['PF01'].value_counts().plot.barh(\n",
    "    title=\"Aspects considered for pair formation\",\n",
    ")"
   ]
  },
  {
   "cell_type": "markdown",
   "id": "20778894",
   "metadata": {},
   "source": [
    "**PF02** How specifically did you consider the gender aspect when dividing students into pairs?"
   ]
  },
  {
   "cell_type": "code",
   "execution_count": 8,
   "id": "f2a25aed",
   "metadata": {},
   "outputs": [
    {
     "data": {
      "text/plain": [
       "<AxesSubplot:title={'center':'Gender aspect'}, ylabel='PF02'>"
      ]
     },
     "execution_count": 8,
     "metadata": {},
     "output_type": "execute_result"
    },
    {
     "data": {
      "image/png": "[encoded data removed]",
      "text/plain": [
       "<Figure size 432x288 with 1 Axes>"
      ]
     },
     "metadata": {},
     "output_type": "display_data"
    }
   ],
   "source": [
    "gender_considered = survey_teachers_finished[survey_teachers_finished['PF01'] == 'Gender']\n",
    "gender_considered['PF02'].value_counts().plot.pie(\n",
    "    title=\"Gender aspect\",\n",
    ")"
   ]
  },
  {
   "cell_type": "markdown",
   "id": "e66bb617",
   "metadata": {},
   "source": [
    "**PF03** How specifically did you consider the ethnicity aspect when dividing students into pairs? "
   ]
  },
  {
   "cell_type": "markdown",
   "id": "96451955",
   "metadata": {},
   "source": [
    "**No data since no one chose ethnicity in pf01**"
   ]
  },
  {
   "cell_type": "markdown",
   "id": "641eb1f9",
   "metadata": {},
   "source": [
    "**PF04** How specifically did you consider age when dividing students into pairs? "
   ]
  },
  {
   "cell_type": "code",
   "execution_count": 14,
   "id": "c9682ec2",
   "metadata": {},
   "outputs": [
    {
     "data": {
      "text/plain": [
       "<AxesSubplot:title={'center':'Age aspect'}, ylabel='PF04'>"
      ]
     },
     "execution_count": 14,
     "metadata": {},
     "output_type": "execute_result"
    },
    {
     "data": {
      "image/png": "[encoded data removed]",
      "text/plain": [
       "<Figure size 432x288 with 1 Axes>"
      ]
     },
     "metadata": {},
     "output_type": "display_data"
    }
   ],
   "source": [
    "age_considered = survey_teachers_finished[survey_teachers_finished['PF01'] == 'Age']\n",
    "age_considered['PF04'].value_counts().plot.pie(\n",
    "    title=\"Age aspect\",\n",
    ")"
   ]
  },
  {
   "cell_type": "markdown",
   "id": "c1335d2f",
   "metadata": {},
   "source": [
    "**PF05** How specifically did you consider digital/computing competency when dividing students into pairs? "
   ]
  },
  {
   "cell_type": "code",
   "execution_count": 15,
   "id": "60914925",
   "metadata": {},
   "outputs": [
    {
     "data": {
      "text/plain": [
       "<AxesSubplot:title={'center':'Digital/Computing/Programming skills aspect'}, ylabel='PF05'>"
      ]
     },
     "execution_count": 15,
     "metadata": {},
     "output_type": "execute_result"
    },
    {
     "data": {
      "image/png": "[encoded data removed]",
      "text/plain": [
       "<Figure size 432x288 with 1 Axes>"
      ]
     },
     "metadata": {},
     "output_type": "display_data"
    }
   ],
   "source": [
    "digital_comp_considered = survey_teachers_finished[survey_teachers_finished['PF01'] == 'Digital/Computing/Programming skills']\n",
    "digital_comp_considered['PF05'].value_counts().plot.pie(\n",
    "    title=\"Digital/Computing/Programming skills aspect\",\n",
    ")"
   ]
  },
  {
   "cell_type": "markdown",
   "id": "fa5ff8fc",
   "metadata": {},
   "source": [
    "**PF06** Please shortly explain the reasons for your choice of pairing the students."
   ]
  },
  {
   "cell_type": "code",
   "execution_count": 16,
   "id": "ab02e7b0",
   "metadata": {},
   "outputs": [],
   "source": [
    "# TODO Free text analysis"
   ]
  },
  {
   "cell_type": "markdown",
   "id": "f299fabc",
   "metadata": {},
   "source": [
    "### Behavioural patterns"
   ]
  },
  {
   "cell_type": "markdown",
   "id": "488a786e",
   "metadata": {},
   "source": [
    "**BP01** In this specific course, did you observe cases in which a student dominates over their partner in the discussion of the task?"
   ]
  },
  {
   "cell_type": "code",
   "execution_count": 26,
   "id": "2d5dd288",
   "metadata": {},
   "outputs": [
    {
     "data": {
      "text/plain": [
       "<AxesSubplot:title={'center':'Domination pattern'}>"
      ]
     },
     "execution_count": 26,
     "metadata": {},
     "output_type": "execute_result"
    },
    {
     "data": {
      "image/png": "[encoded data removed]",
      "text/plain": [
       "<Figure size 432x288 with 1 Axes>"
      ]
     },
     "metadata": {
      "needs_background": "light"
     },
     "output_type": "display_data"
    }
   ],
   "source": [
    "survey_teachers_finished['BP01'].value_counts().reindex([\n",
    "    'I have never seen such cases', \n",
    "    'There were few such cases', \n",
    "    '50% of pairs had patterns of domination, the other ones didn’t', \n",
    "    'There were many such cases',\n",
    "    'All pairs showed patterns of domination'\n",
    "]).plot.barh(title=\"Domination pattern\", color=['#d43d51', '#f49857', '#ffeb8e', '#8abd75', '#00876c'][::-1])"
   ]
  },
  {
   "cell_type": "markdown",
   "id": "ef5c9267",
   "metadata": {},
   "source": [
    "**BP02** In this specific course, did you observe cases in which a students did not follow the rules regarding role responsibilities (e.g. driver and navigator)?"
   ]
  },
  {
   "cell_type": "code",
   "execution_count": 27,
   "id": "46870fe0",
   "metadata": {},
   "outputs": [
    {
     "data": {
      "text/plain": [
       "<AxesSubplot:title={'center':'Role switching pattern'}>"
      ]
     },
     "execution_count": 27,
     "metadata": {},
     "output_type": "execute_result"
    },
    {
     "data": {
      "image/png": "[encoded data removed]",
      "text/plain": [
       "<Figure size 432x288 with 1 Axes>"
      ]
     },
     "metadata": {
      "needs_background": "light"
     },
     "output_type": "display_data"
    }
   ],
   "source": [
    "survey_teachers_finished['BP02'].value_counts().reindex([\n",
    "    'I have seen no such cases', \n",
    "    'There were few such cases', \n",
    "    '50% of pairs had patterns of role switching, the other ones didn’t', \n",
    "    'There were many such cases',\n",
    "    'All pairs showed patterns of role switching'\n",
    "]).plot.barh(title=\"Role switching pattern\", color=['#d43d51', '#f49857', '#ffeb8e', '#8abd75', '#00876c'][::-1])"
   ]
  },
  {
   "cell_type": "markdown",
   "id": "9a2215fb",
   "metadata": {},
   "source": [
    "**BP03** In this specific course, did you observe cases in which students neither appreciated their partner nor took into account other ideas?"
   ]
  },
  {
   "cell_type": "code",
   "execution_count": 30,
   "id": "c41cfb3f",
   "metadata": {},
   "outputs": [
    {
     "data": {
      "text/plain": [
       "<AxesSubplot:title={'center':'Acknowledgment pattern'}>"
      ]
     },
     "execution_count": 30,
     "metadata": {},
     "output_type": "execute_result"
    },
    {
     "data": {
      "image/png": "[encoded data removed]",
      "text/plain": [
       "<Figure size 432x288 with 1 Axes>"
      ]
     },
     "metadata": {
      "needs_background": "light"
     },
     "output_type": "display_data"
    }
   ],
   "source": [
    "# This question is wrong and should be disregarded\n",
    "# There are errors in answer options\n",
    "survey_teachers_finished['BP03'].value_counts().reindex([\n",
    "    'I have seen no such cases', \n",
    "    'There were few such cases', \n",
    "    '50% of pairs had patterns of role switching, the other ones didn’t', \n",
    "    'There were many such cases',\n",
    "    'All pairs showed appreciation of their partners'\n",
    "]).plot.barh(title=\"Acknowledgment pattern\", color=['#d43d51', '#f49857', '#ffeb8e', '#8abd75', '#00876c'][::-1])"
   ]
  },
  {
   "cell_type": "markdown",
   "id": "e927909c",
   "metadata": {},
   "source": [
    "### Performance"
   ]
  },
  {
   "cell_type": "markdown",
   "id": "2f5787a3",
   "metadata": {},
   "source": [
    "**PE01** How did pair programming influence the students’ learning (e.g. programming skills) in this specific course?"
   ]
  },
  {
   "cell_type": "code",
   "execution_count": 31,
   "id": "1252f9ff",
   "metadata": {},
   "outputs": [
    {
     "data": {
      "text/plain": [
       "<AxesSubplot:title={'center':'Learning skills influence'}>"
      ]
     },
     "execution_count": 31,
     "metadata": {},
     "output_type": "execute_result"
    },
    {
     "data": {
      "image/png": "[encoded data removed]",
      "text/plain": [
       "<Figure size 432x288 with 1 Axes>"
      ]
     },
     "metadata": {
      "needs_background": "light"
     },
     "output_type": "display_data"
    }
   ],
   "source": [
    "survey_teachers_finished['PE01'].value_counts().reindex([\n",
    "    'Very negative influence', \n",
    "    'Negative influence', \n",
    "    'Neutral influence', \n",
    "    'Positive influence',\n",
    "    'Very positive influence'\n",
    "]).plot.barh(title=\"Learning skills influence\", color=['#d43d51', '#f49857', '#ffeb8e', '#8abd75', '#00876c'])"
   ]
  },
  {
   "cell_type": "markdown",
   "id": "d55fcec9",
   "metadata": {},
   "source": [
    "**PE02** Which kind of feedback did students have about pair programming in this specific course?"
   ]
  },
  {
   "cell_type": "code",
   "execution_count": 34,
   "id": "f75edd6a",
   "metadata": {},
   "outputs": [
    {
     "data": {
      "text/plain": [
       "<AxesSubplot:title={'center':'Students feedback'}>"
      ]
     },
     "execution_count": 34,
     "metadata": {},
     "output_type": "execute_result"
    },
    {
     "data": {
      "image/png": "[encoded data removed]",
      "text/plain": [
       "<Figure size 432x288 with 1 Axes>"
      ]
     },
     "metadata": {
      "needs_background": "light"
     },
     "output_type": "display_data"
    }
   ],
   "source": [
    "survey_teachers_finished['PE02'].value_counts().reindex([\n",
    "    'Very negative feedback', \n",
    "    'Negative feedback', \n",
    "    'Neutral feedback', \n",
    "    'Positive feedback',\n",
    "    'Very positive feedback'\n",
    "]).plot.barh(title=\"Students feedback\", color=['#d43d51', '#f49857', '#ffeb8e', '#8abd75', '#00876c'])"
   ]
  },
  {
   "cell_type": "markdown",
   "id": "392008bb",
   "metadata": {},
   "source": [
    "**PE03** How did pair programming influence the students’ social skills (e.g. collaboration) in this specific course?"
   ]
  },
  {
   "cell_type": "code",
   "execution_count": 32,
   "id": "02d54d34",
   "metadata": {},
   "outputs": [
    {
     "data": {
      "text/plain": [
       "<AxesSubplot:title={'center':'Social skills influence'}>"
      ]
     },
     "execution_count": 32,
     "metadata": {},
     "output_type": "execute_result"
    },
    {
     "data": {
      "image/png": "[encoded data removed]",
      "text/plain": [
       "<Figure size 432x288 with 1 Axes>"
      ]
     },
     "metadata": {
      "needs_background": "light"
     },
     "output_type": "display_data"
    }
   ],
   "source": [
    "survey_teachers_finished['PE03'].value_counts().reindex([\n",
    "    'Very negative influence', \n",
    "    'Negative influence', \n",
    "    'Neutral influence', \n",
    "    'Positive influence',\n",
    "    'Very positive influence'\n",
    "]).plot.barh(title=\"Social skills influence\", color=['#d43d51', '#f49857', '#ffeb8e', '#8abd75', '#00876c'])"
   ]
  },
  {
   "cell_type": "markdown",
   "id": "846b14b6",
   "metadata": {},
   "source": [
    "**PE04** Please state shortly which social skills were influenced by this course."
   ]
  },
  {
   "cell_type": "code",
   "execution_count": 17,
   "id": "85daf7e7",
   "metadata": {},
   "outputs": [],
   "source": [
    "# todo: Free text analysis"
   ]
  },
  {
   "cell_type": "markdown",
   "id": "656e17f2",
   "metadata": {},
   "source": [
    "**PE05** Please state shortly which learning skills were influenced by this course."
   ]
  },
  {
   "cell_type": "code",
   "execution_count": 18,
   "id": "b1bede55",
   "metadata": {},
   "outputs": [],
   "source": [
    "# todo: Free text analysis"
   ]
  },
  {
   "cell_type": "markdown",
   "id": "2f1dcf50",
   "metadata": {},
   "source": [
    "### Equity and PP"
   ]
  },
  {
   "cell_type": "markdown",
   "id": "4074d1c0",
   "metadata": {},
   "source": [
    "**EQ01** Do you think that pair programming supports equity between students?"
   ]
  },
  {
   "cell_type": "code",
   "execution_count": 35,
   "id": "9ddda528",
   "metadata": {},
   "outputs": [
    {
     "data": {
      "text/plain": [
       "<AxesSubplot:title={'center':'Equity support'}>"
      ]
     },
     "execution_count": 35,
     "metadata": {},
     "output_type": "execute_result"
    },
    {
     "data": {
      "image/png": "[encoded data removed]",
      "text/plain": [
       "<Figure size 432x288 with 1 Axes>"
      ]
     },
     "metadata": {
      "needs_background": "light"
     },
     "output_type": "display_data"
    }
   ],
   "source": [
    "survey_teachers_finished['EQ01'].value_counts().reindex([\n",
    "    'Not at all', \n",
    "    'A bit', \n",
    "    'Neither supportive, nor unsupportive', \n",
    "    'Supportive',\n",
    "    'Extremely supportive'\n",
    "]).plot.barh(title=\"Equity support\", color=['#d43d51', '#f49857', '#ffeb8e', '#8abd75', '#00876c'])"
   ]
  },
  {
   "cell_type": "markdown",
   "id": "48161496",
   "metadata": {},
   "source": [
    "**EQ02** Please shortly explain your choice in the previous question."
   ]
  },
  {
   "cell_type": "code",
   "execution_count": 19,
   "id": "e44db83e",
   "metadata": {},
   "outputs": [],
   "source": [
    "# todo: Free text analysis"
   ]
  },
  {
   "cell_type": "markdown",
   "id": "8f7aa188",
   "metadata": {},
   "source": [
    "# Correlations"
   ]
  },
  {
   "cell_type": "markdown",
   "id": "88665575",
   "metadata": {},
   "source": [
    "To find correlations, let's first encode Likert scale responses as scores from 1 to 5."
   ]
  },
  {
   "cell_type": "code",
   "execution_count": 5,
   "id": "18162422",
   "metadata": {},
   "outputs": [
    {
     "data": {
      "text/html": [
       "<div>\n",
       "<style scoped>\n",
       "    .dataframe tbody tr th:only-of-type {\n",
       "        vertical-align: middle;\n",
       "    }\n",
       "\n",
       "    .dataframe tbody tr th {\n",
       "        vertical-align: top;\n",
       "    }\n",
       "\n",
       "    .dataframe thead th {\n",
       "        text-align: right;\n",
       "    }\n",
       "</style>\n",
       "<table border=\"1\" class=\"dataframe\">\n",
       "  <thead>\n",
       "    <tr style=\"text-align: right;\">\n",
       "      <th></th>\n",
       "      <th>CASE</th>\n",
       "      <th>ED03</th>\n",
       "      <th>EX01</th>\n",
       "      <th>EX05</th>\n",
       "      <th>EX06</th>\n",
       "      <th>BP03</th>\n",
       "      <th>PE01</th>\n",
       "      <th>PE02</th>\n",
       "      <th>PE05</th>\n",
       "      <th>EQ01</th>\n",
       "      <th>TIME_SUM</th>\n",
       "      <th>FINISHED</th>\n",
       "      <th>Q_VIEWER</th>\n",
       "      <th>LASTPAGE</th>\n",
       "      <th>MAXPAGE</th>\n",
       "      <th>DEG_TIME</th>\n",
       "    </tr>\n",
       "  </thead>\n",
       "  <tbody>\n",
       "    <tr>\n",
       "      <th>count</th>\n",
       "      <td>252.000000</td>\n",
       "      <td>252.000000</td>\n",
       "      <td>252.000000</td>\n",
       "      <td>252.000000</td>\n",
       "      <td>252.000000</td>\n",
       "      <td>252.000000</td>\n",
       "      <td>252.000000</td>\n",
       "      <td>252.000000</td>\n",
       "      <td>252.000000</td>\n",
       "      <td>252.000000</td>\n",
       "      <td>252.000000</td>\n",
       "      <td>252.0</td>\n",
       "      <td>252.0</td>\n",
       "      <td>252.0</td>\n",
       "      <td>252.0</td>\n",
       "      <td>252.000000</td>\n",
       "    </tr>\n",
       "    <tr>\n",
       "      <th>mean</th>\n",
       "      <td>613.666667</td>\n",
       "      <td>2.896825</td>\n",
       "      <td>3.880952</td>\n",
       "      <td>3.880952</td>\n",
       "      <td>3.579365</td>\n",
       "      <td>3.821429</td>\n",
       "      <td>3.888889</td>\n",
       "      <td>3.861111</td>\n",
       "      <td>3.892857</td>\n",
       "      <td>3.523810</td>\n",
       "      <td>655.543651</td>\n",
       "      <td>1.0</td>\n",
       "      <td>0.0</td>\n",
       "      <td>8.0</td>\n",
       "      <td>8.0</td>\n",
       "      <td>22.952381</td>\n",
       "    </tr>\n",
       "    <tr>\n",
       "      <th>std</th>\n",
       "      <td>79.368925</td>\n",
       "      <td>0.976451</td>\n",
       "      <td>0.789444</td>\n",
       "      <td>0.720858</td>\n",
       "      <td>1.131604</td>\n",
       "      <td>0.903654</td>\n",
       "      <td>0.676554</td>\n",
       "      <td>0.736469</td>\n",
       "      <td>0.778463</td>\n",
       "      <td>0.971419</td>\n",
       "      <td>300.161461</td>\n",
       "      <td>0.0</td>\n",
       "      <td>0.0</td>\n",
       "      <td>0.0</td>\n",
       "      <td>0.0</td>\n",
       "      <td>36.213919</td>\n",
       "    </tr>\n",
       "    <tr>\n",
       "      <th>min</th>\n",
       "      <td>423.000000</td>\n",
       "      <td>1.000000</td>\n",
       "      <td>1.000000</td>\n",
       "      <td>1.000000</td>\n",
       "      <td>1.000000</td>\n",
       "      <td>1.000000</td>\n",
       "      <td>2.000000</td>\n",
       "      <td>1.000000</td>\n",
       "      <td>1.000000</td>\n",
       "      <td>1.000000</td>\n",
       "      <td>91.000000</td>\n",
       "      <td>1.0</td>\n",
       "      <td>0.0</td>\n",
       "      <td>8.0</td>\n",
       "      <td>8.0</td>\n",
       "      <td>0.000000</td>\n",
       "    </tr>\n",
       "    <tr>\n",
       "      <th>25%</th>\n",
       "      <td>545.750000</td>\n",
       "      <td>2.000000</td>\n",
       "      <td>4.000000</td>\n",
       "      <td>4.000000</td>\n",
       "      <td>3.000000</td>\n",
       "      <td>3.000000</td>\n",
       "      <td>4.000000</td>\n",
       "      <td>3.000000</td>\n",
       "      <td>4.000000</td>\n",
       "      <td>3.000000</td>\n",
       "      <td>431.000000</td>\n",
       "      <td>1.0</td>\n",
       "      <td>0.0</td>\n",
       "      <td>8.0</td>\n",
       "      <td>8.0</td>\n",
       "      <td>4.000000</td>\n",
       "    </tr>\n",
       "    <tr>\n",
       "      <th>50%</th>\n",
       "      <td>612.500000</td>\n",
       "      <td>3.000000</td>\n",
       "      <td>4.000000</td>\n",
       "      <td>4.000000</td>\n",
       "      <td>4.000000</td>\n",
       "      <td>4.000000</td>\n",
       "      <td>4.000000</td>\n",
       "      <td>4.000000</td>\n",
       "      <td>4.000000</td>\n",
       "      <td>4.000000</td>\n",
       "      <td>602.500000</td>\n",
       "      <td>1.0</td>\n",
       "      <td>0.0</td>\n",
       "      <td>8.0</td>\n",
       "      <td>8.0</td>\n",
       "      <td>13.000000</td>\n",
       "    </tr>\n",
       "    <tr>\n",
       "      <th>75%</th>\n",
       "      <td>679.500000</td>\n",
       "      <td>4.000000</td>\n",
       "      <td>4.000000</td>\n",
       "      <td>4.000000</td>\n",
       "      <td>4.000000</td>\n",
       "      <td>4.000000</td>\n",
       "      <td>4.000000</td>\n",
       "      <td>4.000000</td>\n",
       "      <td>4.000000</td>\n",
       "      <td>4.000000</td>\n",
       "      <td>814.000000</td>\n",
       "      <td>1.0</td>\n",
       "      <td>0.0</td>\n",
       "      <td>8.0</td>\n",
       "      <td>8.0</td>\n",
       "      <td>29.000000</td>\n",
       "    </tr>\n",
       "    <tr>\n",
       "      <th>max</th>\n",
       "      <td>756.000000</td>\n",
       "      <td>5.000000</td>\n",
       "      <td>5.000000</td>\n",
       "      <td>5.000000</td>\n",
       "      <td>5.000000</td>\n",
       "      <td>5.000000</td>\n",
       "      <td>5.000000</td>\n",
       "      <td>5.000000</td>\n",
       "      <td>5.000000</td>\n",
       "      <td>5.000000</td>\n",
       "      <td>1619.000000</td>\n",
       "      <td>1.0</td>\n",
       "      <td>0.0</td>\n",
       "      <td>8.0</td>\n",
       "      <td>8.0</td>\n",
       "      <td>295.000000</td>\n",
       "    </tr>\n",
       "  </tbody>\n",
       "</table>\n",
       "</div>"
      ],
      "text/plain": [
       "             CASE        ED03        EX01        EX05        EX06        BP03  \\\n",
       "count  252.000000  252.000000  252.000000  252.000000  252.000000  252.000000   \n",
       "mean   613.666667    2.896825    3.880952    3.880952    3.579365    3.821429   \n",
       "std     79.368925    0.976451    0.789444    0.720858    1.131604    0.903654   \n",
       "min    423.000000    1.000000    1.000000    1.000000    1.000000    1.000000   \n",
       "25%    545.750000    2.000000    4.000000    4.000000    3.000000    3.000000   \n",
       "50%    612.500000    3.000000    4.000000    4.000000    4.000000    4.000000   \n",
       "75%    679.500000    4.000000    4.000000    4.000000    4.000000    4.000000   \n",
       "max    756.000000    5.000000    5.000000    5.000000    5.000000    5.000000   \n",
       "\n",
       "             PE01        PE02        PE05        EQ01     TIME_SUM  FINISHED  \\\n",
       "count  252.000000  252.000000  252.000000  252.000000   252.000000     252.0   \n",
       "mean     3.888889    3.861111    3.892857    3.523810   655.543651       1.0   \n",
       "std      0.676554    0.736469    0.778463    0.971419   300.161461       0.0   \n",
       "min      2.000000    1.000000    1.000000    1.000000    91.000000       1.0   \n",
       "25%      4.000000    3.000000    4.000000    3.000000   431.000000       1.0   \n",
       "50%      4.000000    4.000000    4.000000    4.000000   602.500000       1.0   \n",
       "75%      4.000000    4.000000    4.000000    4.000000   814.000000       1.0   \n",
       "max      5.000000    5.000000    5.000000    5.000000  1619.000000       1.0   \n",
       "\n",
       "       Q_VIEWER  LASTPAGE  MAXPAGE    DEG_TIME  \n",
       "count     252.0     252.0    252.0  252.000000  \n",
       "mean        0.0       8.0      8.0   22.952381  \n",
       "std         0.0       0.0      0.0   36.213919  \n",
       "min         0.0       8.0      8.0    0.000000  \n",
       "25%         0.0       8.0      8.0    4.000000  \n",
       "50%         0.0       8.0      8.0   13.000000  \n",
       "75%         0.0       8.0      8.0   29.000000  \n",
       "max         0.0       8.0      8.0  295.000000  "
      ]
     },
     "execution_count": 5,
     "metadata": {},
     "output_type": "execute_result"
    }
   ],
   "source": [
    "likert_responses_students = {\n",
    "#     CS pre-experience\n",
    "    'ED03': ['Novice', 'Advanced Beginner', 'Competent', 'Proficient', 'Expert'],\n",
    "#     Overall experience in specific course\n",
    "    'EX01': [\"Very negative\", \"Negative\", \"Neutral\", \"Positive\", \"Very positive\"],\n",
    "# Overall experience\n",
    "    'EX05': [\"Very negative\", \"Negative\", \"Neutral\", \"Positive\", \"Very positive\"],\n",
    "# Knowing the partner    \n",
    "    'EX06': [\"Not at all\", \"Rather not well\", \"Neutral\", \"Rather well\", \"Very well\"],\n",
    "# Acknowledgement\n",
    "    'BP03': ['My partner did not listen to me and appreciate my comments at all.', 'My partner mostly did not listen to me and appreciate my comments.', 'My partner sometimes listened to me and appreciated my comments and sometimes not.', 'My partner most of the time listened to me and appreciated my comments.','My partner always listened to me and appreciated my comments.'],\n",
    "#     Learning performance\n",
    "    'PE01': ['Very negative influence', 'Negative influence', 'Neutral influence', 'Positive influence', 'Very positive influence'],\n",
    "#     Social performance\n",
    "    'PE02': ['Very negative influence', 'Negative influence', 'Neutral influence', 'Positive influence','Very positive influence'],\n",
    "#     Confidence\n",
    "    'PE05': ['Strongly disagree', 'Disagree', 'Neutral', 'Agree','Strongly agree'],\n",
    "#     Equity support\n",
    "    'EQ01': ['Not at all', 'A bit', 'Neither yes, neither no', 'Supportive','Extremely supportive']\n",
    "}\n",
    "\n",
    "likert_responses_students_upd = {}\n",
    "for key, item in likert_responses_students.items():\n",
    "    likert_responses_students_upd[key] = {}\n",
    "    for i in range(len(item)):\n",
    "        likert_responses_students_upd[key][item[i]] = i+1\n",
    "\n",
    "likert_responses_students = likert_responses_students_upd\n",
    "\n",
    "survey_students_encoded = survey_students_finished.replace(likert_responses_students)\n",
    "survey_students_encoded.describe()"
   ]
  },
  {
   "cell_type": "markdown",
   "id": "fd65e2c5",
   "metadata": {},
   "source": [
    "## Correlations for students data"
   ]
  },
  {
   "cell_type": "code",
   "execution_count": 6,
   "id": "72a42b5b",
   "metadata": {},
   "outputs": [
    {
     "data": {
      "text/plain": [
       "<AxesSubplot:title={'center':'Relation between acknowledgment, knowing your partner and positivity of experience'}, xlabel='EX06', ylabel='BP03'>"
      ]
     },
     "execution_count": 6,
     "metadata": {},
     "output_type": "execute_result"
    },
    {
     "data": {
      "image/png": "[encoded data removed]",
      "text/plain": [
       "<Figure size 432x288 with 2 Axes>"
      ]
     },
     "metadata": {
      "needs_background": "light"
     },
     "output_type": "display_data"
    }
   ],
   "source": [
    "survey_students_encoded.plot.scatter(\n",
    "    x='EX06', \n",
    "    y='BP03', \n",
    "    c='EX01', \n",
    "    colormap='Greens', \n",
    "    xticks=[1,2,3,4,5], \n",
    "    yticks=[1,2,3,4,5],\n",
    "    title='Relation between acknowledgment, knowing your partner and positivity of experience'\n",
    ")"
   ]
  },
  {
   "cell_type": "code",
   "execution_count": 48,
   "id": "e9d32455",
   "metadata": {},
   "outputs": [
    {
     "data": {
      "text/html": [
       "<div>\n",
       "<style scoped>\n",
       "    .dataframe tbody tr th:only-of-type {\n",
       "        vertical-align: middle;\n",
       "    }\n",
       "\n",
       "    .dataframe tbody tr th {\n",
       "        vertical-align: top;\n",
       "    }\n",
       "\n",
       "    .dataframe thead th {\n",
       "        text-align: right;\n",
       "    }\n",
       "</style>\n",
       "<table border=\"1\" class=\"dataframe\">\n",
       "  <thead>\n",
       "    <tr style=\"text-align: right;\">\n",
       "      <th></th>\n",
       "      <th>CASE</th>\n",
       "      <th>ED03</th>\n",
       "      <th>EX01</th>\n",
       "      <th>EX05</th>\n",
       "      <th>EX06</th>\n",
       "      <th>BP03</th>\n",
       "      <th>PE01</th>\n",
       "      <th>PE02</th>\n",
       "      <th>PE05</th>\n",
       "      <th>EQ01</th>\n",
       "    </tr>\n",
       "  </thead>\n",
       "  <tbody>\n",
       "    <tr>\n",
       "      <th>CASE</th>\n",
       "      <td>1.0</td>\n",
       "      <td></td>\n",
       "      <td></td>\n",
       "      <td></td>\n",
       "      <td></td>\n",
       "      <td></td>\n",
       "      <td></td>\n",
       "      <td></td>\n",
       "      <td></td>\n",
       "      <td></td>\n",
       "    </tr>\n",
       "    <tr>\n",
       "      <th>ED03</th>\n",
       "      <td></td>\n",
       "      <td>1.0</td>\n",
       "      <td></td>\n",
       "      <td></td>\n",
       "      <td></td>\n",
       "      <td></td>\n",
       "      <td></td>\n",
       "      <td></td>\n",
       "      <td></td>\n",
       "      <td></td>\n",
       "    </tr>\n",
       "    <tr>\n",
       "      <th>EX01</th>\n",
       "      <td></td>\n",
       "      <td></td>\n",
       "      <td>1.0</td>\n",
       "      <td>0.626083</td>\n",
       "      <td></td>\n",
       "      <td></td>\n",
       "      <td></td>\n",
       "      <td></td>\n",
       "      <td></td>\n",
       "      <td></td>\n",
       "    </tr>\n",
       "    <tr>\n",
       "      <th>EX05</th>\n",
       "      <td></td>\n",
       "      <td></td>\n",
       "      <td>0.626083</td>\n",
       "      <td>1.0</td>\n",
       "      <td></td>\n",
       "      <td></td>\n",
       "      <td></td>\n",
       "      <td></td>\n",
       "      <td></td>\n",
       "      <td></td>\n",
       "    </tr>\n",
       "    <tr>\n",
       "      <th>EX06</th>\n",
       "      <td></td>\n",
       "      <td></td>\n",
       "      <td></td>\n",
       "      <td></td>\n",
       "      <td>1.0</td>\n",
       "      <td></td>\n",
       "      <td></td>\n",
       "      <td></td>\n",
       "      <td></td>\n",
       "      <td></td>\n",
       "    </tr>\n",
       "    <tr>\n",
       "      <th>BP03</th>\n",
       "      <td></td>\n",
       "      <td></td>\n",
       "      <td></td>\n",
       "      <td></td>\n",
       "      <td></td>\n",
       "      <td>1.0</td>\n",
       "      <td></td>\n",
       "      <td></td>\n",
       "      <td></td>\n",
       "      <td></td>\n",
       "    </tr>\n",
       "    <tr>\n",
       "      <th>PE01</th>\n",
       "      <td></td>\n",
       "      <td></td>\n",
       "      <td></td>\n",
       "      <td></td>\n",
       "      <td></td>\n",
       "      <td></td>\n",
       "      <td>1.0</td>\n",
       "      <td></td>\n",
       "      <td>0.605168</td>\n",
       "      <td></td>\n",
       "    </tr>\n",
       "    <tr>\n",
       "      <th>PE02</th>\n",
       "      <td></td>\n",
       "      <td></td>\n",
       "      <td></td>\n",
       "      <td></td>\n",
       "      <td></td>\n",
       "      <td></td>\n",
       "      <td></td>\n",
       "      <td>1.0</td>\n",
       "      <td>0.502079</td>\n",
       "      <td></td>\n",
       "    </tr>\n",
       "    <tr>\n",
       "      <th>PE05</th>\n",
       "      <td></td>\n",
       "      <td></td>\n",
       "      <td></td>\n",
       "      <td></td>\n",
       "      <td></td>\n",
       "      <td></td>\n",
       "      <td>0.605168</td>\n",
       "      <td>0.502079</td>\n",
       "      <td>1.0</td>\n",
       "      <td></td>\n",
       "    </tr>\n",
       "    <tr>\n",
       "      <th>EQ01</th>\n",
       "      <td></td>\n",
       "      <td></td>\n",
       "      <td></td>\n",
       "      <td></td>\n",
       "      <td></td>\n",
       "      <td></td>\n",
       "      <td></td>\n",
       "      <td></td>\n",
       "      <td></td>\n",
       "      <td>1.0</td>\n",
       "    </tr>\n",
       "  </tbody>\n",
       "</table>\n",
       "</div>"
      ],
      "text/plain": [
       "     CASE ED03      EX01      EX05 EX06 BP03      PE01      PE02      PE05  \\\n",
       "CASE  1.0                                                                    \n",
       "ED03       1.0                                                               \n",
       "EX01                 1.0  0.626083                                           \n",
       "EX05            0.626083       1.0                                           \n",
       "EX06                                1.0                                      \n",
       "BP03                                     1.0                                 \n",
       "PE01                                               1.0            0.605168   \n",
       "PE02                                                         1.0  0.502079   \n",
       "PE05                                          0.605168  0.502079       1.0   \n",
       "EQ01                                                                         \n",
       "\n",
       "     EQ01  \n",
       "CASE       \n",
       "ED03       \n",
       "EX01       \n",
       "EX05       \n",
       "EX06       \n",
       "BP03       \n",
       "PE01       \n",
       "PE02       \n",
       "PE05       \n",
       "EQ01  1.0  "
      ]
     },
     "execution_count": 48,
     "metadata": {},
     "output_type": "execute_result"
    }
   ],
   "source": [
    "correlations_students = survey_students_encoded.corr()\n",
    "correlations_students[abs(correlations_students) >= 0.5].iloc[:, :-6][:-6].fillna(\"\")"
   ]
  },
  {
   "cell_type": "markdown",
   "id": "2f54558c",
   "metadata": {},
   "source": [
    "Correlations found:\n",
    "* EX01, EX05 (How would you rate your experience with pair programming in this specific course? In general, how would you rate your experiences with pair programming?)\n",
    "* PE01, PE05 (How did pair programming influence your learning (e.g. programming skills) in this specific course? Pair Programming helped me to be confident in my ability to program and solve problems in this task or later on.)\n",
    "* PE02, PE05 (How did pair programming influence your social skills (e.g. collaboration) in this specific course? Pair Programming helped me to be confident in my ability to program and solve problems in this task or later on.)"
   ]
  },
  {
   "cell_type": "markdown",
   "id": "8e23ba54",
   "metadata": {},
   "source": [
    "## Correlations for teachers data"
   ]
  },
  {
   "cell_type": "code",
   "execution_count": 34,
   "id": "6c4b2b17",
   "metadata": {},
   "outputs": [
    {
     "data": {
      "text/html": [
       "<div>\n",
       "<style scoped>\n",
       "    .dataframe tbody tr th:only-of-type {\n",
       "        vertical-align: middle;\n",
       "    }\n",
       "\n",
       "    .dataframe tbody tr th {\n",
       "        vertical-align: top;\n",
       "    }\n",
       "\n",
       "    .dataframe thead th {\n",
       "        text-align: right;\n",
       "    }\n",
       "</style>\n",
       "<table border=\"1\" class=\"dataframe\">\n",
       "  <thead>\n",
       "    <tr style=\"text-align: right;\">\n",
       "      <th></th>\n",
       "      <th>CASE</th>\n",
       "      <th>EX01</th>\n",
       "      <th>EX03</th>\n",
       "      <th>EX05</th>\n",
       "      <th>EX06</th>\n",
       "      <th>BP01</th>\n",
       "      <th>BP02</th>\n",
       "      <th>PE01</th>\n",
       "      <th>PE03</th>\n",
       "      <th>PE02</th>\n",
       "      <th>...</th>\n",
       "      <th>TIME002</th>\n",
       "      <th>TIME_SUM</th>\n",
       "      <th>FINISHED</th>\n",
       "      <th>Q_VIEWER</th>\n",
       "      <th>LASTPAGE</th>\n",
       "      <th>MAXPAGE</th>\n",
       "      <th>MISSING</th>\n",
       "      <th>MISSREL</th>\n",
       "      <th>TIME_RSI</th>\n",
       "      <th>DEG_TIME</th>\n",
       "    </tr>\n",
       "  </thead>\n",
       "  <tbody>\n",
       "    <tr>\n",
       "      <th>count</th>\n",
       "      <td>82.000000</td>\n",
       "      <td>82.000000</td>\n",
       "      <td>82.000000</td>\n",
       "      <td>82.000000</td>\n",
       "      <td>82.000000</td>\n",
       "      <td>82.000000</td>\n",
       "      <td>82.000000</td>\n",
       "      <td>82.000000</td>\n",
       "      <td>82.000000</td>\n",
       "      <td>82.000000</td>\n",
       "      <td>...</td>\n",
       "      <td>82.000000</td>\n",
       "      <td>82.000000</td>\n",
       "      <td>82.0</td>\n",
       "      <td>82.0</td>\n",
       "      <td>82.0</td>\n",
       "      <td>82.0</td>\n",
       "      <td>82.000000</td>\n",
       "      <td>82.000000</td>\n",
       "      <td>82.000000</td>\n",
       "      <td>82.000000</td>\n",
       "    </tr>\n",
       "    <tr>\n",
       "      <th>mean</th>\n",
       "      <td>357.621951</td>\n",
       "      <td>4.000000</td>\n",
       "      <td>4.134146</td>\n",
       "      <td>2.280488</td>\n",
       "      <td>3.487805</td>\n",
       "      <td>2.682927</td>\n",
       "      <td>2.207317</td>\n",
       "      <td>4.048780</td>\n",
       "      <td>4.121951</td>\n",
       "      <td>4.024390</td>\n",
       "      <td>...</td>\n",
       "      <td>127.560976</td>\n",
       "      <td>450.780488</td>\n",
       "      <td>1.0</td>\n",
       "      <td>0.0</td>\n",
       "      <td>8.0</td>\n",
       "      <td>8.0</td>\n",
       "      <td>2.231707</td>\n",
       "      <td>0.768293</td>\n",
       "      <td>1.099878</td>\n",
       "      <td>16.146341</td>\n",
       "    </tr>\n",
       "    <tr>\n",
       "      <th>std</th>\n",
       "      <td>87.873456</td>\n",
       "      <td>0.608581</td>\n",
       "      <td>0.662248</td>\n",
       "      <td>1.033684</td>\n",
       "      <td>0.958959</td>\n",
       "      <td>0.914601</td>\n",
       "      <td>0.978003</td>\n",
       "      <td>0.518841</td>\n",
       "      <td>0.655278</td>\n",
       "      <td>0.753193</td>\n",
       "      <td>...</td>\n",
       "      <td>99.976676</td>\n",
       "      <td>163.465557</td>\n",
       "      <td>0.0</td>\n",
       "      <td>0.0</td>\n",
       "      <td>0.0</td>\n",
       "      <td>0.0</td>\n",
       "      <td>1.317487</td>\n",
       "      <td>0.504273</td>\n",
       "      <td>0.481611</td>\n",
       "      <td>18.988705</td>\n",
       "    </tr>\n",
       "    <tr>\n",
       "      <th>min</th>\n",
       "      <td>270.000000</td>\n",
       "      <td>1.000000</td>\n",
       "      <td>1.000000</td>\n",
       "      <td>1.000000</td>\n",
       "      <td>1.000000</td>\n",
       "      <td>1.000000</td>\n",
       "      <td>1.000000</td>\n",
       "      <td>2.000000</td>\n",
       "      <td>2.000000</td>\n",
       "      <td>1.000000</td>\n",
       "      <td>...</td>\n",
       "      <td>25.000000</td>\n",
       "      <td>152.000000</td>\n",
       "      <td>1.0</td>\n",
       "      <td>0.0</td>\n",
       "      <td>8.0</td>\n",
       "      <td>8.0</td>\n",
       "      <td>0.000000</td>\n",
       "      <td>0.000000</td>\n",
       "      <td>0.230000</td>\n",
       "      <td>0.000000</td>\n",
       "    </tr>\n",
       "    <tr>\n",
       "      <th>25%</th>\n",
       "      <td>296.500000</td>\n",
       "      <td>4.000000</td>\n",
       "      <td>4.000000</td>\n",
       "      <td>1.000000</td>\n",
       "      <td>3.000000</td>\n",
       "      <td>2.000000</td>\n",
       "      <td>2.000000</td>\n",
       "      <td>4.000000</td>\n",
       "      <td>4.000000</td>\n",
       "      <td>4.000000</td>\n",
       "      <td>...</td>\n",
       "      <td>66.000000</td>\n",
       "      <td>337.250000</td>\n",
       "      <td>1.0</td>\n",
       "      <td>0.0</td>\n",
       "      <td>8.0</td>\n",
       "      <td>8.0</td>\n",
       "      <td>0.750000</td>\n",
       "      <td>0.250000</td>\n",
       "      <td>0.787500</td>\n",
       "      <td>2.250000</td>\n",
       "    </tr>\n",
       "    <tr>\n",
       "      <th>50%</th>\n",
       "      <td>317.500000</td>\n",
       "      <td>4.000000</td>\n",
       "      <td>4.000000</td>\n",
       "      <td>2.000000</td>\n",
       "      <td>4.000000</td>\n",
       "      <td>2.000000</td>\n",
       "      <td>2.000000</td>\n",
       "      <td>4.000000</td>\n",
       "      <td>4.000000</td>\n",
       "      <td>4.000000</td>\n",
       "      <td>...</td>\n",
       "      <td>97.500000</td>\n",
       "      <td>444.500000</td>\n",
       "      <td>1.0</td>\n",
       "      <td>0.0</td>\n",
       "      <td>8.0</td>\n",
       "      <td>8.0</td>\n",
       "      <td>3.000000</td>\n",
       "      <td>1.000000</td>\n",
       "      <td>1.060000</td>\n",
       "      <td>10.000000</td>\n",
       "    </tr>\n",
       "    <tr>\n",
       "      <th>75%</th>\n",
       "      <td>420.000000</td>\n",
       "      <td>4.000000</td>\n",
       "      <td>4.750000</td>\n",
       "      <td>3.000000</td>\n",
       "      <td>4.000000</td>\n",
       "      <td>3.000000</td>\n",
       "      <td>2.000000</td>\n",
       "      <td>4.000000</td>\n",
       "      <td>5.000000</td>\n",
       "      <td>4.000000</td>\n",
       "      <td>...</td>\n",
       "      <td>137.500000</td>\n",
       "      <td>557.500000</td>\n",
       "      <td>1.0</td>\n",
       "      <td>0.0</td>\n",
       "      <td>8.0</td>\n",
       "      <td>8.0</td>\n",
       "      <td>3.000000</td>\n",
       "      <td>1.000000</td>\n",
       "      <td>1.347500</td>\n",
       "      <td>22.750000</td>\n",
       "    </tr>\n",
       "    <tr>\n",
       "      <th>max</th>\n",
       "      <td>583.000000</td>\n",
       "      <td>5.000000</td>\n",
       "      <td>5.000000</td>\n",
       "      <td>5.000000</td>\n",
       "      <td>5.000000</td>\n",
       "      <td>5.000000</td>\n",
       "      <td>5.000000</td>\n",
       "      <td>5.000000</td>\n",
       "      <td>5.000000</td>\n",
       "      <td>5.000000</td>\n",
       "      <td>...</td>\n",
       "      <td>489.000000</td>\n",
       "      <td>878.000000</td>\n",
       "      <td>1.0</td>\n",
       "      <td>0.0</td>\n",
       "      <td>8.0</td>\n",
       "      <td>8.0</td>\n",
       "      <td>3.000000</td>\n",
       "      <td>3.000000</td>\n",
       "      <td>2.320000</td>\n",
       "      <td>100.000000</td>\n",
       "    </tr>\n",
       "  </tbody>\n",
       "</table>\n",
       "<p>8 rows × 22 columns</p>\n",
       "</div>"
      ],
      "text/plain": [
       "             CASE       EX01       EX03       EX05       EX06       BP01  \\\n",
       "count   82.000000  82.000000  82.000000  82.000000  82.000000  82.000000   \n",
       "mean   357.621951   4.000000   4.134146   2.280488   3.487805   2.682927   \n",
       "std     87.873456   0.608581   0.662248   1.033684   0.958959   0.914601   \n",
       "min    270.000000   1.000000   1.000000   1.000000   1.000000   1.000000   \n",
       "25%    296.500000   4.000000   4.000000   1.000000   3.000000   2.000000   \n",
       "50%    317.500000   4.000000   4.000000   2.000000   4.000000   2.000000   \n",
       "75%    420.000000   4.000000   4.750000   3.000000   4.000000   3.000000   \n",
       "max    583.000000   5.000000   5.000000   5.000000   5.000000   5.000000   \n",
       "\n",
       "            BP02       PE01       PE03       PE02  ...     TIME002  \\\n",
       "count  82.000000  82.000000  82.000000  82.000000  ...   82.000000   \n",
       "mean    2.207317   4.048780   4.121951   4.024390  ...  127.560976   \n",
       "std     0.978003   0.518841   0.655278   0.753193  ...   99.976676   \n",
       "min     1.000000   2.000000   2.000000   1.000000  ...   25.000000   \n",
       "25%     2.000000   4.000000   4.000000   4.000000  ...   66.000000   \n",
       "50%     2.000000   4.000000   4.000000   4.000000  ...   97.500000   \n",
       "75%     2.000000   4.000000   5.000000   4.000000  ...  137.500000   \n",
       "max     5.000000   5.000000   5.000000   5.000000  ...  489.000000   \n",
       "\n",
       "         TIME_SUM  FINISHED  Q_VIEWER  LASTPAGE  MAXPAGE    MISSING  \\\n",
       "count   82.000000      82.0      82.0      82.0     82.0  82.000000   \n",
       "mean   450.780488       1.0       0.0       8.0      8.0   2.231707   \n",
       "std    163.465557       0.0       0.0       0.0      0.0   1.317487   \n",
       "min    152.000000       1.0       0.0       8.0      8.0   0.000000   \n",
       "25%    337.250000       1.0       0.0       8.0      8.0   0.750000   \n",
       "50%    444.500000       1.0       0.0       8.0      8.0   3.000000   \n",
       "75%    557.500000       1.0       0.0       8.0      8.0   3.000000   \n",
       "max    878.000000       1.0       0.0       8.0      8.0   3.000000   \n",
       "\n",
       "         MISSREL   TIME_RSI    DEG_TIME  \n",
       "count  82.000000  82.000000   82.000000  \n",
       "mean    0.768293   1.099878   16.146341  \n",
       "std     0.504273   0.481611   18.988705  \n",
       "min     0.000000   0.230000    0.000000  \n",
       "25%     0.250000   0.787500    2.250000  \n",
       "50%     1.000000   1.060000   10.000000  \n",
       "75%     1.000000   1.347500   22.750000  \n",
       "max     3.000000   2.320000  100.000000  \n",
       "\n",
       "[8 rows x 22 columns]"
      ]
     },
     "execution_count": 34,
     "metadata": {},
     "output_type": "execute_result"
    }
   ],
   "source": [
    "likert_responses_teachers = {\n",
    "#     Overall experience in specific course\n",
    "    'EX01': [\"Very negative\", \"Negative\", \"Neutral\", \"Positive\", \"Very positive\"],\n",
    "# Overall experience\n",
    "    'EX03': [\"Very negative\", \"Negative\", \"Neutral\", \"Positive\", \"Very positive\"],\n",
    "#     CS pre-experience of students\n",
    "    'EX05': ['Novice', 'Advanced Beginner', 'Competent', 'Proficient', 'Expert'],\n",
    "# Knowing the partner    \n",
    "    'EX06': [\"Not at all\", \"Rather not well\", \"Neutral\", \"Rather well\", \"Very well\"],\n",
    "# Domination\n",
    "    'BP01': [\"I have never seen such cases\", \"There were few such cases\", \"50% of pairs had patterns of domination, the other ones didn’t\", \"There were many such cases\", \"All pairs showed patterns of domination\"],\n",
    "# Role switching \n",
    "    'BP02': [\"I have seen no such cases\", \"There were few such cases\", \"50% of pairs had patterns of role switching, the other ones didn’t\", \"There were many such cases\", \"All pairs showed patterns of role switching\"],\n",
    "#     Learning performance\n",
    "    'PE01': ['Very negative influence', 'Negative influence', 'Neutral influence', 'Positive influence', 'Very positive influence'],\n",
    "#     Students feedback\n",
    "    'PE02': [\"Very negative feedback\", \"Negative feedback\", \"Neutral feedback\", \"Positive feedback\", \"Very positive feedback\"],\n",
    "#     Social performance\n",
    "    'PE03': ['Very negative influence', 'Negative influence', 'Neutral influence', 'Positive influence','Very positive influence'],\n",
    "#     Equity support\n",
    "    'EQ01': ['Not at all', 'A bit', 'Neither supportive, nor unsupportive', 'Supportive','Extremely supportive']\n",
    "}\n",
    "\n",
    "likert_responses_teachers_upd = {}\n",
    "for key, item in likert_responses_teachers.items():\n",
    "    likert_responses_teachers_upd[key] = {}\n",
    "    for i in range(len(item)):\n",
    "        likert_responses_teachers_upd[key][item[i]] = i+1\n",
    "\n",
    "likert_responses_teachers = likert_responses_teachers_upd\n",
    "\n",
    "survey_teachers_encoded = survey_teachers_finished.replace(likert_responses_teachers)\n",
    "survey_teachers_encoded.describe()"
   ]
  },
  {
   "cell_type": "code",
   "execution_count": 49,
   "id": "3da3a3bd",
   "metadata": {},
   "outputs": [
    {
     "data": {
      "text/html": [
       "<div>\n",
       "<style scoped>\n",
       "    .dataframe tbody tr th:only-of-type {\n",
       "        vertical-align: middle;\n",
       "    }\n",
       "\n",
       "    .dataframe tbody tr th {\n",
       "        vertical-align: top;\n",
       "    }\n",
       "\n",
       "    .dataframe thead th {\n",
       "        text-align: right;\n",
       "    }\n",
       "</style>\n",
       "<table border=\"1\" class=\"dataframe\">\n",
       "  <thead>\n",
       "    <tr style=\"text-align: right;\">\n",
       "      <th></th>\n",
       "      <th>CASE</th>\n",
       "      <th>EX01</th>\n",
       "      <th>EX03</th>\n",
       "      <th>EX05</th>\n",
       "      <th>EX06</th>\n",
       "      <th>BP01</th>\n",
       "      <th>BP02</th>\n",
       "      <th>PE01</th>\n",
       "      <th>PE03</th>\n",
       "      <th>PE02</th>\n",
       "      <th>EQ01</th>\n",
       "    </tr>\n",
       "  </thead>\n",
       "  <tbody>\n",
       "    <tr>\n",
       "      <th>CASE</th>\n",
       "      <td>1.0</td>\n",
       "      <td></td>\n",
       "      <td></td>\n",
       "      <td></td>\n",
       "      <td></td>\n",
       "      <td></td>\n",
       "      <td></td>\n",
       "      <td></td>\n",
       "      <td></td>\n",
       "      <td></td>\n",
       "      <td></td>\n",
       "    </tr>\n",
       "    <tr>\n",
       "      <th>EX01</th>\n",
       "      <td></td>\n",
       "      <td>1.0</td>\n",
       "      <td>0.704537</td>\n",
       "      <td></td>\n",
       "      <td></td>\n",
       "      <td></td>\n",
       "      <td></td>\n",
       "      <td>0.586481</td>\n",
       "      <td>0.526284</td>\n",
       "      <td>0.538668</td>\n",
       "      <td></td>\n",
       "    </tr>\n",
       "    <tr>\n",
       "      <th>EX03</th>\n",
       "      <td></td>\n",
       "      <td>0.704537</td>\n",
       "      <td>1.0</td>\n",
       "      <td></td>\n",
       "      <td></td>\n",
       "      <td></td>\n",
       "      <td></td>\n",
       "      <td>0.627464</td>\n",
       "      <td></td>\n",
       "      <td>0.562627</td>\n",
       "      <td></td>\n",
       "    </tr>\n",
       "    <tr>\n",
       "      <th>EX05</th>\n",
       "      <td></td>\n",
       "      <td></td>\n",
       "      <td></td>\n",
       "      <td>1.0</td>\n",
       "      <td></td>\n",
       "      <td></td>\n",
       "      <td></td>\n",
       "      <td></td>\n",
       "      <td></td>\n",
       "      <td></td>\n",
       "      <td></td>\n",
       "    </tr>\n",
       "    <tr>\n",
       "      <th>EX06</th>\n",
       "      <td></td>\n",
       "      <td></td>\n",
       "      <td></td>\n",
       "      <td></td>\n",
       "      <td>1.0</td>\n",
       "      <td></td>\n",
       "      <td></td>\n",
       "      <td></td>\n",
       "      <td></td>\n",
       "      <td></td>\n",
       "      <td></td>\n",
       "    </tr>\n",
       "    <tr>\n",
       "      <th>BP01</th>\n",
       "      <td></td>\n",
       "      <td></td>\n",
       "      <td></td>\n",
       "      <td></td>\n",
       "      <td></td>\n",
       "      <td>1.0</td>\n",
       "      <td>0.50226</td>\n",
       "      <td></td>\n",
       "      <td></td>\n",
       "      <td></td>\n",
       "      <td></td>\n",
       "    </tr>\n",
       "    <tr>\n",
       "      <th>BP02</th>\n",
       "      <td></td>\n",
       "      <td></td>\n",
       "      <td></td>\n",
       "      <td></td>\n",
       "      <td></td>\n",
       "      <td>0.50226</td>\n",
       "      <td>1.0</td>\n",
       "      <td></td>\n",
       "      <td></td>\n",
       "      <td></td>\n",
       "      <td></td>\n",
       "    </tr>\n",
       "    <tr>\n",
       "      <th>PE01</th>\n",
       "      <td></td>\n",
       "      <td>0.586481</td>\n",
       "      <td>0.627464</td>\n",
       "      <td></td>\n",
       "      <td></td>\n",
       "      <td></td>\n",
       "      <td></td>\n",
       "      <td>1.0</td>\n",
       "      <td>0.526973</td>\n",
       "      <td>0.502387</td>\n",
       "      <td></td>\n",
       "    </tr>\n",
       "    <tr>\n",
       "      <th>PE03</th>\n",
       "      <td></td>\n",
       "      <td>0.526284</td>\n",
       "      <td></td>\n",
       "      <td></td>\n",
       "      <td></td>\n",
       "      <td></td>\n",
       "      <td></td>\n",
       "      <td>0.526973</td>\n",
       "      <td>1.0</td>\n",
       "      <td></td>\n",
       "      <td></td>\n",
       "    </tr>\n",
       "    <tr>\n",
       "      <th>PE02</th>\n",
       "      <td></td>\n",
       "      <td>0.538668</td>\n",
       "      <td>0.562627</td>\n",
       "      <td></td>\n",
       "      <td></td>\n",
       "      <td></td>\n",
       "      <td></td>\n",
       "      <td>0.502387</td>\n",
       "      <td></td>\n",
       "      <td>1.0</td>\n",
       "      <td></td>\n",
       "    </tr>\n",
       "    <tr>\n",
       "      <th>EQ01</th>\n",
       "      <td></td>\n",
       "      <td></td>\n",
       "      <td></td>\n",
       "      <td></td>\n",
       "      <td></td>\n",
       "      <td></td>\n",
       "      <td></td>\n",
       "      <td></td>\n",
       "      <td></td>\n",
       "      <td></td>\n",
       "      <td>1.0</td>\n",
       "    </tr>\n",
       "  </tbody>\n",
       "</table>\n",
       "</div>"
      ],
      "text/plain": [
       "     CASE      EX01      EX03 EX05 EX06     BP01     BP02      PE01      PE03  \\\n",
       "CASE  1.0                                                                       \n",
       "EX01            1.0  0.704537                              0.586481  0.526284   \n",
       "EX03       0.704537       1.0                              0.627464             \n",
       "EX05                           1.0                                              \n",
       "EX06                                1.0                                         \n",
       "BP01                                         1.0  0.50226                       \n",
       "BP02                                     0.50226      1.0                       \n",
       "PE01       0.586481  0.627464                                   1.0  0.526973   \n",
       "PE03       0.526284                                        0.526973       1.0   \n",
       "PE02       0.538668  0.562627                              0.502387             \n",
       "EQ01                                                                            \n",
       "\n",
       "          PE02 EQ01  \n",
       "CASE                 \n",
       "EX01  0.538668       \n",
       "EX03  0.562627       \n",
       "EX05                 \n",
       "EX06                 \n",
       "BP01                 \n",
       "BP02                 \n",
       "PE01  0.502387       \n",
       "PE03                 \n",
       "PE02       1.0       \n",
       "EQ01            1.0  "
      ]
     },
     "execution_count": 49,
     "metadata": {},
     "output_type": "execute_result"
    }
   ],
   "source": [
    "correlations_teachers = survey_teachers_encoded.corr()\n",
    "correlations_teachers[abs(correlations_teachers) >= 0.5].iloc[:, :-11][:-11].fillna(\"\")"
   ]
  },
  {
   "cell_type": "markdown",
   "id": "ede8fd50",
   "metadata": {},
   "source": [
    "More correlations here:\n",
    "* EX01 EX03 (Experience in specific course, overall experience)\n",
    "* EX01 PE01 (Experience in specific course, learning performance)\n",
    "* EX01 PE02 (Experience in specific course, students feedback)\n",
    "* EX01 PE03 (Experience in specific course, social skills)\n",
    "* EX03 PE01 (Overall experience, learning performance)\n",
    "* EX03 PE02 (Overall experience, students feedback)\n",
    "* BP01 BP02 (Domination, role switching)\n",
    "* PE01 PE02 (Learning performance, students feedback)\n",
    "* PE01 PE03 (Learning performance, social skills)"
   ]
  },
  {
   "cell_type": "code",
   "execution_count": null,
   "id": "64537904",
   "metadata": {},
   "outputs": [],
   "source": []
  }
 ],
 "metadata": {
  "kernelspec": {
   "display_name": "Python 3",
   "language": "python",
   "name": "python3"
  },
  "language_info": {
   "codemirror_mode": {
    "name": "ipython",
    "version": 3
   },
   "file_extension": ".py",
   "mimetype": "text/x-python",
   "name": "python",
   "nbconvert_exporter": "python",
   "pygments_lexer": "ipython3",
   "version": "3.8.8"
  }
 },
 "nbformat": 4,
 "nbformat_minor": 5
}
