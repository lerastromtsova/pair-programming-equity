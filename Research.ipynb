{
 "cells": [
  {
   "cell_type": "code",
   "execution_count": 38,
   "id": "fcf411b8",
   "metadata": {},
   "outputs": [],
   "source": [
    "import pandas as pd\n",
    "import matplotlib.pyplot as plt"
   ]
  },
  {
   "cell_type": "markdown",
   "id": "b6d26ab1",
   "metadata": {},
   "source": [
    "# Retrieving the data"
   ]
  },
  {
   "cell_type": "code",
   "execution_count": 17,
   "id": "8d4efc4a",
   "metadata": {},
   "outputs": [],
   "source": [
    "students_results = pd.read_csv('data/data_pairprogramming_students.csv', sep='|', encoding='UTF-16 LE')\n",
    "teachers_results = pd.read_csv('data/data_pairprogramming_teachers.csv', sep='|', encoding='UTF-16 LE')"
   ]
  },
  {
   "cell_type": "markdown",
   "id": "ec524c02",
   "metadata": {},
   "source": [
    "## Students data"
   ]
  },
  {
   "cell_type": "code",
   "execution_count": 112,
   "id": "b5776d02",
   "metadata": {},
   "outputs": [],
   "source": [
    "students_results.fillna(\"\", inplace=True)"
   ]
  },
  {
   "cell_type": "code",
   "execution_count": 57,
   "id": "d876e669",
   "metadata": {},
   "outputs": [
    {
     "name": "stdout",
     "output_type": "stream",
     "text": [
      "433 respondents participated in the student prescreen.\n",
      "277 respondents participated in the student survey.\n",
      "\n",
      "406 finished the prescreen.\n",
      "252 finished the survey.\n"
     ]
    }
   ],
   "source": [
    "prescreen_students = students_results[students_results['QUESTNNR']=='prescreen']\n",
    "survey_students = students_results[students_results['QUESTNNR']=='survey']\n",
    "print(f\"{prescreen_students.shape[0]} respondents participated in the student prescreen.\")\n",
    "print(f\"{survey_students.shape[0]} respondents participated in the student survey.\\n\")\n",
    "\n",
    "prescreen_students_finished = prescreen_students[prescreen_students['FINISHED']==1]\n",
    "survey_students_finished = survey_students[survey_students['FINISHED']==1]\n",
    "print(f\"{prescreen_students_finished.shape[0]} finished the prescreen.\")\n",
    "print(f\"{survey_students_finished.shape[0]} finished the survey.\")"
   ]
  },
  {
   "cell_type": "markdown",
   "id": "a8022eed",
   "metadata": {},
   "source": [
    "## Teachers data"
   ]
  },
  {
   "cell_type": "code",
   "execution_count": 113,
   "id": "4bb2179f",
   "metadata": {
    "scrolled": true
   },
   "outputs": [],
   "source": [
    "teachers_results.fillna(\"\", inplace=True)"
   ]
  },
  {
   "cell_type": "code",
   "execution_count": 56,
   "id": "42f69f10",
   "metadata": {},
   "outputs": [
    {
     "name": "stdout",
     "output_type": "stream",
     "text": [
      "304 respondents participated in the teacher prescreen.\n",
      "109 respondents participated in the teacher-no survey.\n",
      "83 respondents participated in the teacher survey.\n",
      "\n",
      "303 finished the prescreen.\n",
      "82 finished the survey.\n"
     ]
    }
   ],
   "source": [
    "prescreen_teachers = teachers_results[teachers_results['QUESTNNR']=='prescreen']\n",
    "no_teachers = teachers_results[teachers_results['QUESTNNR']=='teachers-no']\n",
    "survey_teachers = teachers_results[teachers_results['QUESTNNR']=='survey']\n",
    "print(f\"{prescreen_teachers.shape[0]} respondents participated in the teacher prescreen.\")\n",
    "print(f\"{no_teachers.shape[0]} respondents participated in the teacher-no survey.\")\n",
    "print(f\"{survey_teachers.shape[0]} respondents participated in the teacher survey.\\n\")\n",
    "\n",
    "prescreen_teachers_finished = prescreen_teachers[prescreen_teachers['FINISHED']==1]\n",
    "survey_teachers_finished = survey_teachers[survey_teachers['FINISHED']==1]\n",
    "print(f\"{prescreen_teachers_finished.shape[0]} finished the prescreen.\")\n",
    "print(f\"{survey_teachers_finished.shape[0]} finished the survey.\")"
   ]
  },
  {
   "cell_type": "markdown",
   "id": "fdb2dfc4",
   "metadata": {},
   "source": [
    "# Analysis"
   ]
  },
  {
   "cell_type": "markdown",
   "id": "b9b78414",
   "metadata": {},
   "source": [
    "## Students data"
   ]
  },
  {
   "cell_type": "code",
   "execution_count": 98,
   "id": "9df40052",
   "metadata": {},
   "outputs": [],
   "source": [
    "categorical_questions_students = [\n",
    "    'ED01',\n",
    "    'ED03',\n",
    "    'ED04',\n",
    "    'EX01',\n",
    "    'EX03',\n",
    "    'EX04',\n",
    "    'EX05',\n",
    "    'EX06',\n",
    "    'EX07',\n",
    "    'BP01',\n",
    "    'BP02',\n",
    "    'BP03',\n",
    "    'DI01',\n",
    "    'DI02',\n",
    "    'PE01',\n",
    "    'PE02',\n",
    "    'PE05',\n",
    "    'EQ01'\n",
    "]"
   ]
  },
  {
   "cell_type": "markdown",
   "id": "c10d534f",
   "metadata": {},
   "source": [
    "### Education"
   ]
  },
  {
   "cell_type": "markdown",
   "id": "fedb87f5",
   "metadata": {},
   "source": [
    "**ED01** At which stage of your education did you practice pair programming and how often?"
   ]
  },
  {
   "cell_type": "code",
   "execution_count": 101,
   "id": "61e433fc",
   "metadata": {},
   "outputs": [],
   "source": [
    "# TODO"
   ]
  },
  {
   "cell_type": "markdown",
   "id": "990e8098",
   "metadata": {},
   "source": [
    "**ED03** How would you rate your computer science skills (e.g. programming skills) to the time of this specific course?"
   ]
  },
  {
   "cell_type": "code",
   "execution_count": 111,
   "id": "4f6f71b5",
   "metadata": {},
   "outputs": [
    {
     "data": {
      "text/plain": [
       "<AxesSubplot:title={'center':'Prior CS skills'}>"
      ]
     },
     "execution_count": 111,
     "metadata": {},
     "output_type": "execute_result"
    },
    {
     "data": {
      "image/png": "[encoded data removed]",
      "text/plain": [
       "<Figure size 432x288 with 1 Axes>"
      ]
     },
     "metadata": {
      "needs_background": "light"
     },
     "output_type": "display_data"
    }
   ],
   "source": [
    "survey_students_finished['ED03'].value_counts().reindex([\n",
    "    'Novice', 'Advanced Beginner', 'Competent', 'Proficient', 'Expert'\n",
    "]).plot.barh(\n",
    "    title=\"Prior CS skills\",\n",
    "    color=['#d43d51', '#f49857', '#ffeb8e', '#8abd75', '#00876c']\n",
    ")"
   ]
  },
  {
   "cell_type": "markdown",
   "id": "de3aa108",
   "metadata": {},
   "source": [
    "**ED04** At which stage of your education did you practice this specific course of pair programming?"
   ]
  },
  {
   "cell_type": "code",
   "execution_count": 82,
   "id": "756c3a55",
   "metadata": {},
   "outputs": [
    {
     "data": {
      "text/plain": [
       "<AxesSubplot:title={'center':'Education stage'}>"
      ]
     },
     "execution_count": 82,
     "metadata": {},
     "output_type": "execute_result"
    },
    {
     "data": {
      "image/png": "[encoded data removed]",
      "text/plain": [
       "<Figure size 432x288 with 1 Axes>"
      ]
     },
     "metadata": {
      "needs_background": "light"
     },
     "output_type": "display_data"
    }
   ],
   "source": [
    "survey_students_finished['ED04'].value_counts().plot.barh(title=\"Education stage\")"
   ]
  },
  {
   "cell_type": "markdown",
   "id": "f64fa779",
   "metadata": {},
   "source": [
    "### Experience with PP"
   ]
  },
  {
   "cell_type": "markdown",
   "id": "f5adb3ed",
   "metadata": {},
   "source": [
    "**EX01** How would you rate your experience with pair programming in this specific course?"
   ]
  },
  {
   "cell_type": "code",
   "execution_count": 119,
   "id": "3074e451",
   "metadata": {},
   "outputs": [
    {
     "data": {
      "text/plain": [
       "<AxesSubplot:title={'center':'Experience with a particular case of PP on Likert scale'}>"
      ]
     },
     "execution_count": 119,
     "metadata": {},
     "output_type": "execute_result"
    },
    {
     "data": {
      "image/png": "[encoded data removed]",
      "text/plain": [
       "<Figure size 432x288 with 1 Axes>"
      ]
     },
     "metadata": {
      "needs_background": "light"
     },
     "output_type": "display_data"
    }
   ],
   "source": [
    "survey_students_finished['EX01'].value_counts().reindex([\n",
    "    \"Very negative\", \"Negative\", \"Neutral\", \"Positive\", \"Very positive\"\n",
    "]).plot.barh(\n",
    "    title=\"Experience with a particular case of PP on Likert scale\",\n",
    "    color=['#d43d51', '#f49857', '#ffeb8e', '#8abd75', '#00876c']\n",
    ")"
   ]
  },
  {
   "cell_type": "markdown",
   "id": "7cd98856",
   "metadata": {},
   "source": [
    "**EX02** Please explain the reasons for your experience."
   ]
  },
  {
   "cell_type": "code",
   "execution_count": 115,
   "id": "ad410685",
   "metadata": {},
   "outputs": [],
   "source": [
    "# TODO Analyse free text"
   ]
  },
  {
   "cell_type": "markdown",
   "id": "b2ed356a",
   "metadata": {},
   "source": [
    "**EX03** Please rank the following positive aspects regarding their relevance (1 = highest) perceived by you in your specific course.\n",
    "\n",
    "**EX04** Please rank the following negative aspects regarding their relevance (1 = highest) perceived by you in your specific course."
   ]
  },
  {
   "cell_type": "code",
   "execution_count": 116,
   "id": "c65b24f3",
   "metadata": {},
   "outputs": [],
   "source": [
    "# TODO"
   ]
  },
  {
   "cell_type": "markdown",
   "id": "7d980cd3",
   "metadata": {},
   "source": [
    "**EX05** In general, how would you rate your experiences with pair programming?"
   ]
  },
  {
   "cell_type": "code",
   "execution_count": 118,
   "id": "dc6b806a",
   "metadata": {},
   "outputs": [
    {
     "data": {
      "text/plain": [
       "<AxesSubplot:title={'center':'Overall experience with PP on Likert scale'}>"
      ]
     },
     "execution_count": 118,
     "metadata": {},
     "output_type": "execute_result"
    },
    {
     "data": {
      "image/png": "[encoded data removed]",
      "text/plain": [
       "<Figure size 432x288 with 1 Axes>"
      ]
     },
     "metadata": {
      "needs_background": "light"
     },
     "output_type": "display_data"
    }
   ],
   "source": [
    "survey_students_finished['EX05'].value_counts().reindex([\n",
    "    \"Very negative\", \"Negative\", \"Neutral\", \"Positive\", \"Very positive\"\n",
    "]).plot.barh(\n",
    "    title=\"Overall experience with PP on Likert scale\",\n",
    "    color=['#d43d51', '#f49857', '#ffeb8e', '#8abd75', '#00876c']\n",
    ")"
   ]
  },
  {
   "cell_type": "markdown",
   "id": "efc4f8b7",
   "metadata": {},
   "source": [
    "**EX06** How well did you know your programming partner in this specific course?"
   ]
  },
  {
   "cell_type": "code",
   "execution_count": 120,
   "id": "b5a114cb",
   "metadata": {},
   "outputs": [
    {
     "data": {
      "text/plain": [
       "<AxesSubplot:title={'center':'Knowing the partner'}>"
      ]
     },
     "execution_count": 120,
     "metadata": {},
     "output_type": "execute_result"
    },
    {
     "data": {
      "image/png": "[encoded data removed]",
      "text/plain": [
       "<Figure size 432x288 with 1 Axes>"
      ]
     },
     "metadata": {
      "needs_background": "light"
     },
     "output_type": "display_data"
    }
   ],
   "source": [
    "survey_students_finished['EX06'].value_counts().reindex([\n",
    "    \"Not at all\", \"Rather not well\", \"Neutral\", \"Rather well\", \"Very well\"\n",
    "]).plot.barh(\n",
    "    title=\"Knowing the partner\",\n",
    "    color=['#d43d51', '#f49857', '#ffeb8e', '#8abd75', '#00876c']\n",
    ")"
   ]
  },
  {
   "cell_type": "markdown",
   "id": "49b35d9f",
   "metadata": {},
   "source": [
    "**EX07** In which year did you take this specific course?"
   ]
  },
  {
   "cell_type": "code",
   "execution_count": 130,
   "id": "3ab1255e",
   "metadata": {},
   "outputs": [
    {
     "data": {
      "text/plain": [
       "<AxesSubplot:title={'center':'PP Year'}>"
      ]
     },
     "execution_count": 130,
     "metadata": {},
     "output_type": "execute_result"
    },
    {
     "data": {
      "image/png": "[encoded data removed]",
      "text/plain": [
       "<Figure size 432x288 with 1 Axes>"
      ]
     },
     "metadata": {
      "needs_background": "light"
     },
     "output_type": "display_data"
    }
   ],
   "source": [
    "survey_students_finished['EX07'].value_counts().reindex([\n",
    "    'earlier than 2017', '2017', '2018', '2019', '2020', '2021', '2022'\n",
    "]).plot.bar(title=\"PP Year\", rot=0)"
   ]
  },
  {
   "cell_type": "markdown",
   "id": "84288455",
   "metadata": {},
   "source": [
    "### Behavioural patterns"
   ]
  },
  {
   "cell_type": "markdown",
   "id": "45faf4fc",
   "metadata": {},
   "source": [
    "**BP01** Did you feel like your partner or you dominated the conversational floor, expressing ideas and making suggestions more often? "
   ]
  },
  {
   "cell_type": "code",
   "execution_count": 138,
   "id": "2c3bccd0",
   "metadata": {},
   "outputs": [
    {
     "data": {
      "text/plain": [
       "<AxesSubplot:title={'center':'Domination pattern'}>"
      ]
     },
     "execution_count": 138,
     "metadata": {},
     "output_type": "execute_result"
    },
    {
     "data": {
      "image/png": "[encoded data removed]",
      "text/plain": [
       "<Figure size 432x288 with 1 Axes>"
      ]
     },
     "metadata": {
      "needs_background": "light"
     },
     "output_type": "display_data"
    }
   ],
   "source": [
    "survey_students_finished['BP01'].value_counts().reindex([\n",
    "    'I expressed my ideas way more often than my partner.', \n",
    "    'I expressed my ideas slightly more often than my partner.', \n",
    "    'Both me and my partner expressed their ideas equally often.', \n",
    "    'My partner expressed their ideas slightly more often than me.',\n",
    "    'My partner expressed their ideas way more often than me.'\n",
    "]).plot.barh(title=\"Domination pattern\", color=['#00df5c', '#00b499', '#0084b2', '#00529a', '#001f5c'])"
   ]
  },
  {
   "cell_type": "markdown",
   "id": "81534f15",
   "metadata": {},
   "source": [
    "**BP02** In pair programming, the driver actively interacts with the computer, coding or designing while the navigator observes the working process and provides feedback to the driver. Did you and your partner only do what is prescribed by your roles?"
   ]
  },
  {
   "cell_type": "code",
   "execution_count": 141,
   "id": "7178b934",
   "metadata": {},
   "outputs": [
    {
     "data": {
      "text/plain": [
       "<AxesSubplot:title={'center':'Role switching pattern'}>"
      ]
     },
     "execution_count": 141,
     "metadata": {},
     "output_type": "execute_result"
    },
    {
     "data": {
      "image/png": "[encoded data removed]",
      "text/plain": [
       "<Figure size 432x288 with 1 Axes>"
      ]
     },
     "metadata": {
      "needs_background": "light"
     },
     "output_type": "display_data"
    }
   ],
   "source": [
    "survey_students_finished['BP02'].value_counts().reindex([\n",
    "    'Yes, we have both been sticking to our roles.', \n",
    "    'No, my partner sometimes took my role.', \n",
    "    'No, I sometimes took the role of my partner.', \n",
    "    'No, we both did something that was not prescribed by our roles.',\n",
    "]).plot.barh(title=\"Role switching pattern\", color=['#00b499', '#0084b2', '#00529a', '#001f5c'])"
   ]
  },
  {
   "cell_type": "markdown",
   "id": "1959eea1",
   "metadata": {},
   "source": [
    "**BP03** In general, to what extent do you feel like your ideas and suggestions are appreciated and taken into account by your pair programming partner? "
   ]
  },
  {
   "cell_type": "code",
   "execution_count": 144,
   "id": "ce610329",
   "metadata": {},
   "outputs": [
    {
     "data": {
      "text/plain": [
       "<AxesSubplot:title={'center':'Appreciation in pair'}>"
      ]
     },
     "execution_count": 144,
     "metadata": {},
     "output_type": "execute_result"
    },
    {
     "data": {
      "image/png": "[encoded data removed]",
      "text/plain": [
       "<Figure size 432x288 with 1 Axes>"
      ]
     },
     "metadata": {
      "needs_background": "light"
     },
     "output_type": "display_data"
    }
   ],
   "source": [
    "survey_students_finished['BP03'].value_counts().reindex([\n",
    "    'My partner did not listen to me and appreciate my comments at all.', \n",
    "    'My partner mostly did not listen to me and appreciate my comments.', \n",
    "    'My partner sometimes listened to me and appreciated my comments and sometimes not.', \n",
    "    'My partner most of the time listened to me and appreciated my comments.',\n",
    "    'My partner always listened to me and appreciated my comments.'\n",
    "]).plot.barh(title=\"Appreciation in pair\", color=['#d43d51', '#f49857', '#ffeb8e', '#8abd75', '#00876c'])"
   ]
  },
  {
   "cell_type": "markdown",
   "id": "54b0f0bc",
   "metadata": {},
   "source": [
    "### Diversity in pairs"
   ]
  },
  {
   "cell_type": "markdown",
   "id": "9df4b2f9",
   "metadata": {},
   "source": [
    "**DI01** Is anything of the following true regarding you and your pair programming partner? "
   ]
  },
  {
   "cell_type": "code",
   "execution_count": 148,
   "id": "f8027037",
   "metadata": {},
   "outputs": [],
   "source": [
    "# TODO survey_students_finished['DI01'].value_counts().plot.barh(title=\"Partners aspects\")"
   ]
  },
  {
   "cell_type": "markdown",
   "id": "7814a538",
   "metadata": {},
   "source": [
    "**DI02** If you could choose a pair programming partner, which attribute would be most important to you?"
   ]
  },
  {
   "cell_type": "code",
   "execution_count": 149,
   "id": "c6f5188c",
   "metadata": {},
   "outputs": [
    {
     "data": {
      "text/plain": [
       "<AxesSubplot:title={'center':'Important partners aspects'}>"
      ]
     },
     "execution_count": 149,
     "metadata": {},
     "output_type": "execute_result"
    },
    {
     "data": {
      "image/png": "[encoded data removed]",
      "text/plain": [
       "<Figure size 432x288 with 1 Axes>"
      ]
     },
     "metadata": {
      "needs_background": "light"
     },
     "output_type": "display_data"
    }
   ],
   "source": [
    "survey_students_finished['DI02'].value_counts().plot.barh(title=\"Important partners aspects\")"
   ]
  },
  {
   "cell_type": "markdown",
   "id": "dd6c25cb",
   "metadata": {},
   "source": [
    "**DI03** Please explain shortly your choice regarding the previous question."
   ]
  },
  {
   "cell_type": "code",
   "execution_count": 150,
   "id": "1f62c5a5",
   "metadata": {},
   "outputs": [],
   "source": [
    "# TODO Analyse free text"
   ]
  },
  {
   "cell_type": "markdown",
   "id": "8c49fec0",
   "metadata": {},
   "source": [
    "### Performance"
   ]
  },
  {
   "cell_type": "markdown",
   "id": "2220e20e",
   "metadata": {},
   "source": [
    "**PE01** How did pair programming influence your learning (e.g. programming skills) in this specific course? "
   ]
  },
  {
   "cell_type": "code",
   "execution_count": 152,
   "id": "4e14e1a7",
   "metadata": {},
   "outputs": [
    {
     "data": {
      "text/plain": [
       "<AxesSubplot:title={'center':'Learning skills influence'}>"
      ]
     },
     "execution_count": 152,
     "metadata": {},
     "output_type": "execute_result"
    },
    {
     "data": {
      "image/png": "[encoded data removed]",
      "text/plain": [
       "<Figure size 432x288 with 1 Axes>"
      ]
     },
     "metadata": {
      "needs_background": "light"
     },
     "output_type": "display_data"
    }
   ],
   "source": [
    "survey_students_finished['PE01'].value_counts().reindex([\n",
    "    'Very negative influence', \n",
    "    'Negative influence', \n",
    "    'Neutral influence', \n",
    "    'Positive influence',\n",
    "    'Very positive influence'\n",
    "]).plot.barh(title=\"Learning skills influence\", color=['#d43d51', '#f49857', '#ffeb8e', '#8abd75', '#00876c'])"
   ]
  },
  {
   "cell_type": "markdown",
   "id": "d2e83f23",
   "metadata": {},
   "source": [
    "**PE02** How did pair programming influence your social skills (e.g. collaboration) in this specific course? "
   ]
  },
  {
   "cell_type": "code",
   "execution_count": 153,
   "id": "da9ffddc",
   "metadata": {},
   "outputs": [
    {
     "data": {
      "text/plain": [
       "<AxesSubplot:title={'center':'Social skills influence'}>"
      ]
     },
     "execution_count": 153,
     "metadata": {},
     "output_type": "execute_result"
    },
    {
     "data": {
      "image/png": "[encoded data removed]",
      "text/plain": [
       "<Figure size 432x288 with 1 Axes>"
      ]
     },
     "metadata": {
      "needs_background": "light"
     },
     "output_type": "display_data"
    }
   ],
   "source": [
    "survey_students_finished['PE02'].value_counts().reindex([\n",
    "    'Very negative influence', \n",
    "    'Negative influence', \n",
    "    'Neutral influence', \n",
    "    'Positive influence',\n",
    "    'Very positive influence'\n",
    "]).plot.barh(title=\"Social skills influence\", color=['#d43d51', '#f49857', '#ffeb8e', '#8abd75', '#00876c'])"
   ]
  },
  {
   "cell_type": "markdown",
   "id": "dcf81d2d",
   "metadata": {},
   "source": [
    "**PE03** Please state shortly which learning skills were influenced by this course. (optional)"
   ]
  },
  {
   "cell_type": "code",
   "execution_count": 154,
   "id": "500f93e0",
   "metadata": {},
   "outputs": [],
   "source": [
    "# TODO"
   ]
  },
  {
   "cell_type": "markdown",
   "id": "8c6c7bfe",
   "metadata": {},
   "source": [
    "**PE04** Please state shortly which social skills were influenced by this course. (optional)"
   ]
  },
  {
   "cell_type": "code",
   "execution_count": 155,
   "id": "ac4cca23",
   "metadata": {},
   "outputs": [],
   "source": [
    "# TODO"
   ]
  },
  {
   "cell_type": "markdown",
   "id": "792a5c87",
   "metadata": {},
   "source": [
    "**PE05** Pair Programming helped me to be confident in my ability to program and solve problems in this task or later on."
   ]
  },
  {
   "cell_type": "code",
   "execution_count": 156,
   "id": "99061df9",
   "metadata": {},
   "outputs": [
    {
     "data": {
      "text/plain": [
       "<AxesSubplot:title={'center':'Confidence'}>"
      ]
     },
     "execution_count": 156,
     "metadata": {},
     "output_type": "execute_result"
    },
    {
     "data": {
      "image/png": "[encoded data removed]",
      "text/plain": [
       "<Figure size 432x288 with 1 Axes>"
      ]
     },
     "metadata": {
      "needs_background": "light"
     },
     "output_type": "display_data"
    }
   ],
   "source": [
    "survey_students_finished['PE05'].value_counts().reindex([\n",
    "    'Strongly disagree', \n",
    "    'Disagree', \n",
    "    'Neutral', \n",
    "    'Agree',\n",
    "    'Strongly agree'\n",
    "]).plot.barh(title=\"Confidence\", color=['#d43d51', '#f49857', '#ffeb8e', '#8abd75', '#00876c'])"
   ]
  },
  {
   "cell_type": "markdown",
   "id": "188f131f",
   "metadata": {},
   "source": [
    "### Equity and PP"
   ]
  },
  {
   "cell_type": "markdown",
   "id": "6b241841",
   "metadata": {},
   "source": [
    "**EQ01** Do you think that pair programming supports equity between students? "
   ]
  },
  {
   "cell_type": "code",
   "execution_count": 157,
   "id": "54a12736",
   "metadata": {},
   "outputs": [
    {
     "data": {
      "text/plain": [
       "<AxesSubplot:title={'center':'Equity support'}>"
      ]
     },
     "execution_count": 157,
     "metadata": {},
     "output_type": "execute_result"
    },
    {
     "data": {
      "image/png": "[encoded data removed]",
      "text/plain": [
       "<Figure size 432x288 with 1 Axes>"
      ]
     },
     "metadata": {
      "needs_background": "light"
     },
     "output_type": "display_data"
    }
   ],
   "source": [
    "survey_students_finished['EQ01'].value_counts().reindex([\n",
    "    'Not at all', \n",
    "    'A bit', \n",
    "    'Neither yes, neither no', \n",
    "    'Supportive',\n",
    "    'Extremely supportive'\n",
    "]).plot.barh(title=\"Equity support\", color=['#d43d51', '#f49857', '#ffeb8e', '#8abd75', '#00876c'])"
   ]
  },
  {
   "cell_type": "markdown",
   "id": "571edeb5",
   "metadata": {},
   "source": [
    "**EQ02** Please shortly explain your choice in the previous question."
   ]
  },
  {
   "cell_type": "code",
   "execution_count": 158,
   "id": "99f66a91",
   "metadata": {},
   "outputs": [],
   "source": [
    "# TODO Free text analysis"
   ]
  },
  {
   "cell_type": "markdown",
   "id": "3927ebf5",
   "metadata": {},
   "source": [
    "## Teachers data"
   ]
  },
  {
   "cell_type": "code",
   "execution_count": 99,
   "id": "310a88dc",
   "metadata": {},
   "outputs": [],
   "source": [
    "categorical_questions_teachers = [\n",
    "    'ED01',\n",
    "    'ED02',\n",
    "    'ED04',\n",
    "    'EX01',\n",
    "    'EX03',\n",
    "    'EX04',\n",
    "    'EX05',\n",
    "    'EX06',\n",
    "    'PF01',\n",
    "    'PF02',\n",
    "    'PF04',\n",
    "    'PF05',\n",
    "    'PF07',\n",
    "    'BP01',\n",
    "    'BP02',\n",
    "    'BP03',\n",
    "    'PE01',\n",
    "    'PE02',\n",
    "    'PE03',\n",
    "    'EQ01'\n",
    "]"
   ]
  },
  {
   "cell_type": "code",
   "execution_count": null,
   "id": "73f5b20b",
   "metadata": {},
   "outputs": [],
   "source": []
  }
 ],
 "metadata": {
  "kernelspec": {
   "display_name": "Python 3",
   "language": "python",
   "name": "python3"
  },
  "language_info": {
   "codemirror_mode": {
    "name": "ipython",
    "version": 3
   },
   "file_extension": ".py",
   "mimetype": "text/x-python",
   "name": "python",
   "nbconvert_exporter": "python",
   "pygments_lexer": "ipython3",
   "version": "3.8.8"
  }
 },
 "nbformat": 4,
 "nbformat_minor": 5
}
